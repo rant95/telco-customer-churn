{
  "cells": [
    {
      "cell_type": "markdown",
      "metadata": {
        "id": "view-in-github",
        "colab_type": "text"
      },
      "source": [
        "<a href=\"https://colab.research.google.com/github/rant95/telco-customer-churn/blob/main/customer_churn_prediction_with_logistic_regression.ipynb\" target=\"_parent\"><img src=\"https://colab.research.google.com/assets/colab-badge.svg\" alt=\"Open In Colab\"/></a>"
      ]
    },
    {
      "cell_type": "markdown",
      "id": "66c8c88e",
      "metadata": {
        "papermill": {
          "duration": 0.013449,
          "end_time": "2022-12-24T20:16:28.145900",
          "exception": false,
          "start_time": "2022-12-24T20:16:28.132451",
          "status": "completed"
        },
        "tags": [],
        "id": "66c8c88e"
      },
      "source": [
        "# Customer Churn Prediction using Logistic Regression"
      ]
    },
    {
      "cell_type": "markdown",
      "id": "5fb39d4d",
      "metadata": {
        "papermill": {
          "duration": 0.013294,
          "end_time": "2022-12-24T20:16:28.171345",
          "exception": false,
          "start_time": "2022-12-24T20:16:28.158051",
          "status": "completed"
        },
        "tags": [],
        "id": "5fb39d4d"
      },
      "source": [
        "![](https://chartmogul.com/blog/wp-content/uploads/2022/02/blogWhat_s-a-good-Customer-Churn-Rate-scaled.jpeg)"
      ]
    },
    {
      "cell_type": "code",
      "execution_count": 17,
      "id": "90ada2c1",
      "metadata": {
        "execution": {
          "iopub.execute_input": "2022-12-24T20:16:28.196939Z",
          "iopub.status.busy": "2022-12-24T20:16:28.196387Z",
          "iopub.status.idle": "2022-12-24T20:16:29.529706Z",
          "shell.execute_reply": "2022-12-24T20:16:29.528557Z"
        },
        "papermill": {
          "duration": 1.34964,
          "end_time": "2022-12-24T20:16:29.532669",
          "exception": false,
          "start_time": "2022-12-24T20:16:28.183029",
          "status": "completed"
        },
        "tags": [],
        "id": "90ada2c1"
      },
      "outputs": [],
      "source": [
        "# Import the required libraries.\n",
        "import pandas as pd\n",
        "import numpy as np\n",
        "import sklearn\n",
        "import matplotlib.pyplot as plt\n",
        "import seaborn as sns\n",
        "from sklearn.metrics import classification_report\n",
        "from sklearn.linear_model import LogisticRegression\n",
        "from sklearn.model_selection import train_test_split\n",
        "from sklearn.metrics import confusion_matrix"
      ]
    },
    {
      "cell_type": "code",
      "execution_count": 18,
      "id": "bc6fc32b",
      "metadata": {
        "execution": {
          "iopub.execute_input": "2022-12-24T20:16:29.558536Z",
          "iopub.status.busy": "2022-12-24T20:16:29.557709Z",
          "iopub.status.idle": "2022-12-24T20:16:29.615805Z",
          "shell.execute_reply": "2022-12-24T20:16:29.614668Z"
        },
        "papermill": {
          "duration": 0.074117,
          "end_time": "2022-12-24T20:16:29.618577",
          "exception": false,
          "start_time": "2022-12-24T20:16:29.544460",
          "status": "completed"
        },
        "tags": [],
        "id": "bc6fc32b"
      },
      "outputs": [],
      "source": [
        "# Load the data.\n",
        "data=pd.read_csv('/content/WA_Fn-UseC_-Telco-Customer-Churn.csv')"
      ]
    },
    {
      "cell_type": "code",
      "execution_count": 19,
      "id": "206e83c6",
      "metadata": {
        "execution": {
          "iopub.execute_input": "2022-12-24T20:16:29.644546Z",
          "iopub.status.busy": "2022-12-24T20:16:29.644098Z",
          "iopub.status.idle": "2022-12-24T20:16:29.683700Z",
          "shell.execute_reply": "2022-12-24T20:16:29.682548Z"
        },
        "papermill": {
          "duration": 0.055554,
          "end_time": "2022-12-24T20:16:29.686055",
          "exception": false,
          "start_time": "2022-12-24T20:16:29.630501",
          "status": "completed"
        },
        "tags": [],
        "id": "206e83c6",
        "outputId": "986a0c5b-f3b0-4b0f-fa23-12ec5833ff73",
        "colab": {
          "base_uri": "https://localhost:8080/",
          "height": 366
        }
      },
      "outputs": [
        {
          "output_type": "execute_result",
          "data": {
            "text/plain": [
              "   customerID  gender  SeniorCitizen Partner Dependents  tenure PhoneService  \\\n",
              "0  7590-VHVEG  Female              0     Yes         No       1           No   \n",
              "1  5575-GNVDE    Male              0      No         No      34          Yes   \n",
              "2  3668-QPYBK    Male              0      No         No       2          Yes   \n",
              "3  7795-CFOCW    Male              0      No         No      45           No   \n",
              "4  9237-HQITU  Female              0      No         No       2          Yes   \n",
              "\n",
              "      MultipleLines InternetService OnlineSecurity  ... DeviceProtection  \\\n",
              "0  No phone service             DSL             No  ...               No   \n",
              "1                No             DSL            Yes  ...              Yes   \n",
              "2                No             DSL            Yes  ...               No   \n",
              "3  No phone service             DSL            Yes  ...              Yes   \n",
              "4                No     Fiber optic             No  ...               No   \n",
              "\n",
              "  TechSupport StreamingTV StreamingMovies        Contract PaperlessBilling  \\\n",
              "0          No          No              No  Month-to-month              Yes   \n",
              "1          No          No              No        One year               No   \n",
              "2          No          No              No  Month-to-month              Yes   \n",
              "3         Yes          No              No        One year               No   \n",
              "4          No          No              No  Month-to-month              Yes   \n",
              "\n",
              "               PaymentMethod MonthlyCharges  TotalCharges Churn  \n",
              "0           Electronic check          29.85         29.85    No  \n",
              "1               Mailed check          56.95        1889.5    No  \n",
              "2               Mailed check          53.85        108.15   Yes  \n",
              "3  Bank transfer (automatic)          42.30       1840.75    No  \n",
              "4           Electronic check          70.70        151.65   Yes  \n",
              "\n",
              "[5 rows x 21 columns]"
            ],
            "text/html": [
              "\n",
              "  <div id=\"df-3119953c-3f04-41e2-abca-d9c1219610ac\">\n",
              "    <div class=\"colab-df-container\">\n",
              "      <div>\n",
              "<style scoped>\n",
              "    .dataframe tbody tr th:only-of-type {\n",
              "        vertical-align: middle;\n",
              "    }\n",
              "\n",
              "    .dataframe tbody tr th {\n",
              "        vertical-align: top;\n",
              "    }\n",
              "\n",
              "    .dataframe thead th {\n",
              "        text-align: right;\n",
              "    }\n",
              "</style>\n",
              "<table border=\"1\" class=\"dataframe\">\n",
              "  <thead>\n",
              "    <tr style=\"text-align: right;\">\n",
              "      <th></th>\n",
              "      <th>customerID</th>\n",
              "      <th>gender</th>\n",
              "      <th>SeniorCitizen</th>\n",
              "      <th>Partner</th>\n",
              "      <th>Dependents</th>\n",
              "      <th>tenure</th>\n",
              "      <th>PhoneService</th>\n",
              "      <th>MultipleLines</th>\n",
              "      <th>InternetService</th>\n",
              "      <th>OnlineSecurity</th>\n",
              "      <th>...</th>\n",
              "      <th>DeviceProtection</th>\n",
              "      <th>TechSupport</th>\n",
              "      <th>StreamingTV</th>\n",
              "      <th>StreamingMovies</th>\n",
              "      <th>Contract</th>\n",
              "      <th>PaperlessBilling</th>\n",
              "      <th>PaymentMethod</th>\n",
              "      <th>MonthlyCharges</th>\n",
              "      <th>TotalCharges</th>\n",
              "      <th>Churn</th>\n",
              "    </tr>\n",
              "  </thead>\n",
              "  <tbody>\n",
              "    <tr>\n",
              "      <th>0</th>\n",
              "      <td>7590-VHVEG</td>\n",
              "      <td>Female</td>\n",
              "      <td>0</td>\n",
              "      <td>Yes</td>\n",
              "      <td>No</td>\n",
              "      <td>1</td>\n",
              "      <td>No</td>\n",
              "      <td>No phone service</td>\n",
              "      <td>DSL</td>\n",
              "      <td>No</td>\n",
              "      <td>...</td>\n",
              "      <td>No</td>\n",
              "      <td>No</td>\n",
              "      <td>No</td>\n",
              "      <td>No</td>\n",
              "      <td>Month-to-month</td>\n",
              "      <td>Yes</td>\n",
              "      <td>Electronic check</td>\n",
              "      <td>29.85</td>\n",
              "      <td>29.85</td>\n",
              "      <td>No</td>\n",
              "    </tr>\n",
              "    <tr>\n",
              "      <th>1</th>\n",
              "      <td>5575-GNVDE</td>\n",
              "      <td>Male</td>\n",
              "      <td>0</td>\n",
              "      <td>No</td>\n",
              "      <td>No</td>\n",
              "      <td>34</td>\n",
              "      <td>Yes</td>\n",
              "      <td>No</td>\n",
              "      <td>DSL</td>\n",
              "      <td>Yes</td>\n",
              "      <td>...</td>\n",
              "      <td>Yes</td>\n",
              "      <td>No</td>\n",
              "      <td>No</td>\n",
              "      <td>No</td>\n",
              "      <td>One year</td>\n",
              "      <td>No</td>\n",
              "      <td>Mailed check</td>\n",
              "      <td>56.95</td>\n",
              "      <td>1889.5</td>\n",
              "      <td>No</td>\n",
              "    </tr>\n",
              "    <tr>\n",
              "      <th>2</th>\n",
              "      <td>3668-QPYBK</td>\n",
              "      <td>Male</td>\n",
              "      <td>0</td>\n",
              "      <td>No</td>\n",
              "      <td>No</td>\n",
              "      <td>2</td>\n",
              "      <td>Yes</td>\n",
              "      <td>No</td>\n",
              "      <td>DSL</td>\n",
              "      <td>Yes</td>\n",
              "      <td>...</td>\n",
              "      <td>No</td>\n",
              "      <td>No</td>\n",
              "      <td>No</td>\n",
              "      <td>No</td>\n",
              "      <td>Month-to-month</td>\n",
              "      <td>Yes</td>\n",
              "      <td>Mailed check</td>\n",
              "      <td>53.85</td>\n",
              "      <td>108.15</td>\n",
              "      <td>Yes</td>\n",
              "    </tr>\n",
              "    <tr>\n",
              "      <th>3</th>\n",
              "      <td>7795-CFOCW</td>\n",
              "      <td>Male</td>\n",
              "      <td>0</td>\n",
              "      <td>No</td>\n",
              "      <td>No</td>\n",
              "      <td>45</td>\n",
              "      <td>No</td>\n",
              "      <td>No phone service</td>\n",
              "      <td>DSL</td>\n",
              "      <td>Yes</td>\n",
              "      <td>...</td>\n",
              "      <td>Yes</td>\n",
              "      <td>Yes</td>\n",
              "      <td>No</td>\n",
              "      <td>No</td>\n",
              "      <td>One year</td>\n",
              "      <td>No</td>\n",
              "      <td>Bank transfer (automatic)</td>\n",
              "      <td>42.30</td>\n",
              "      <td>1840.75</td>\n",
              "      <td>No</td>\n",
              "    </tr>\n",
              "    <tr>\n",
              "      <th>4</th>\n",
              "      <td>9237-HQITU</td>\n",
              "      <td>Female</td>\n",
              "      <td>0</td>\n",
              "      <td>No</td>\n",
              "      <td>No</td>\n",
              "      <td>2</td>\n",
              "      <td>Yes</td>\n",
              "      <td>No</td>\n",
              "      <td>Fiber optic</td>\n",
              "      <td>No</td>\n",
              "      <td>...</td>\n",
              "      <td>No</td>\n",
              "      <td>No</td>\n",
              "      <td>No</td>\n",
              "      <td>No</td>\n",
              "      <td>Month-to-month</td>\n",
              "      <td>Yes</td>\n",
              "      <td>Electronic check</td>\n",
              "      <td>70.70</td>\n",
              "      <td>151.65</td>\n",
              "      <td>Yes</td>\n",
              "    </tr>\n",
              "  </tbody>\n",
              "</table>\n",
              "<p>5 rows × 21 columns</p>\n",
              "</div>\n",
              "      <button class=\"colab-df-convert\" onclick=\"convertToInteractive('df-3119953c-3f04-41e2-abca-d9c1219610ac')\"\n",
              "              title=\"Convert this dataframe to an interactive table.\"\n",
              "              style=\"display:none;\">\n",
              "        \n",
              "  <svg xmlns=\"http://www.w3.org/2000/svg\" height=\"24px\"viewBox=\"0 0 24 24\"\n",
              "       width=\"24px\">\n",
              "    <path d=\"M0 0h24v24H0V0z\" fill=\"none\"/>\n",
              "    <path d=\"M18.56 5.44l.94 2.06.94-2.06 2.06-.94-2.06-.94-.94-2.06-.94 2.06-2.06.94zm-11 1L8.5 8.5l.94-2.06 2.06-.94-2.06-.94L8.5 2.5l-.94 2.06-2.06.94zm10 10l.94 2.06.94-2.06 2.06-.94-2.06-.94-.94-2.06-.94 2.06-2.06.94z\"/><path d=\"M17.41 7.96l-1.37-1.37c-.4-.4-.92-.59-1.43-.59-.52 0-1.04.2-1.43.59L10.3 9.45l-7.72 7.72c-.78.78-.78 2.05 0 2.83L4 21.41c.39.39.9.59 1.41.59.51 0 1.02-.2 1.41-.59l7.78-7.78 2.81-2.81c.8-.78.8-2.07 0-2.86zM5.41 20L4 18.59l7.72-7.72 1.47 1.35L5.41 20z\"/>\n",
              "  </svg>\n",
              "      </button>\n",
              "      \n",
              "  <style>\n",
              "    .colab-df-container {\n",
              "      display:flex;\n",
              "      flex-wrap:wrap;\n",
              "      gap: 12px;\n",
              "    }\n",
              "\n",
              "    .colab-df-convert {\n",
              "      background-color: #E8F0FE;\n",
              "      border: none;\n",
              "      border-radius: 50%;\n",
              "      cursor: pointer;\n",
              "      display: none;\n",
              "      fill: #1967D2;\n",
              "      height: 32px;\n",
              "      padding: 0 0 0 0;\n",
              "      width: 32px;\n",
              "    }\n",
              "\n",
              "    .colab-df-convert:hover {\n",
              "      background-color: #E2EBFA;\n",
              "      box-shadow: 0px 1px 2px rgba(60, 64, 67, 0.3), 0px 1px 3px 1px rgba(60, 64, 67, 0.15);\n",
              "      fill: #174EA6;\n",
              "    }\n",
              "\n",
              "    [theme=dark] .colab-df-convert {\n",
              "      background-color: #3B4455;\n",
              "      fill: #D2E3FC;\n",
              "    }\n",
              "\n",
              "    [theme=dark] .colab-df-convert:hover {\n",
              "      background-color: #434B5C;\n",
              "      box-shadow: 0px 1px 3px 1px rgba(0, 0, 0, 0.15);\n",
              "      filter: drop-shadow(0px 1px 2px rgba(0, 0, 0, 0.3));\n",
              "      fill: #FFFFFF;\n",
              "    }\n",
              "  </style>\n",
              "\n",
              "      <script>\n",
              "        const buttonEl =\n",
              "          document.querySelector('#df-3119953c-3f04-41e2-abca-d9c1219610ac button.colab-df-convert');\n",
              "        buttonEl.style.display =\n",
              "          google.colab.kernel.accessAllowed ? 'block' : 'none';\n",
              "\n",
              "        async function convertToInteractive(key) {\n",
              "          const element = document.querySelector('#df-3119953c-3f04-41e2-abca-d9c1219610ac');\n",
              "          const dataTable =\n",
              "            await google.colab.kernel.invokeFunction('convertToInteractive',\n",
              "                                                     [key], {});\n",
              "          if (!dataTable) return;\n",
              "\n",
              "          const docLinkHtml = 'Like what you see? Visit the ' +\n",
              "            '<a target=\"_blank\" href=https://colab.research.google.com/notebooks/data_table.ipynb>data table notebook</a>'\n",
              "            + ' to learn more about interactive tables.';\n",
              "          element.innerHTML = '';\n",
              "          dataTable['output_type'] = 'display_data';\n",
              "          await google.colab.output.renderOutput(dataTable, element);\n",
              "          const docLink = document.createElement('div');\n",
              "          docLink.innerHTML = docLinkHtml;\n",
              "          element.appendChild(docLink);\n",
              "        }\n",
              "      </script>\n",
              "    </div>\n",
              "  </div>\n",
              "  "
            ]
          },
          "metadata": {},
          "execution_count": 19
        }
      ],
      "source": [
        "# Check the 5 first rows of the dataset.\n",
        "data.head()"
      ]
    },
    {
      "cell_type": "code",
      "execution_count": 20,
      "id": "a654de4b",
      "metadata": {
        "execution": {
          "iopub.execute_input": "2022-12-24T20:16:29.712882Z",
          "iopub.status.busy": "2022-12-24T20:16:29.712461Z",
          "iopub.status.idle": "2022-12-24T20:16:29.718830Z",
          "shell.execute_reply": "2022-12-24T20:16:29.717743Z"
        },
        "papermill": {
          "duration": 0.022573,
          "end_time": "2022-12-24T20:16:29.721021",
          "exception": false,
          "start_time": "2022-12-24T20:16:29.698448",
          "status": "completed"
        },
        "tags": [],
        "id": "a654de4b",
        "outputId": "2eedc85a-603d-40ae-b91e-c9d9fe5bd5a1",
        "colab": {
          "base_uri": "https://localhost:8080/"
        }
      },
      "outputs": [
        {
          "output_type": "execute_result",
          "data": {
            "text/plain": [
              "(7043, 21)"
            ]
          },
          "metadata": {},
          "execution_count": 20
        }
      ],
      "source": [
        "# Get the size of the dataset.\n",
        "data.shape"
      ]
    },
    {
      "cell_type": "code",
      "execution_count": 21,
      "id": "aa6b9f9d",
      "metadata": {
        "execution": {
          "iopub.execute_input": "2022-12-24T20:16:29.747567Z",
          "iopub.status.busy": "2022-12-24T20:16:29.746855Z",
          "iopub.status.idle": "2022-12-24T20:16:29.763331Z",
          "shell.execute_reply": "2022-12-24T20:16:29.761891Z"
        },
        "papermill": {
          "duration": 0.03232,
          "end_time": "2022-12-24T20:16:29.765692",
          "exception": false,
          "start_time": "2022-12-24T20:16:29.733372",
          "status": "completed"
        },
        "tags": [],
        "id": "aa6b9f9d",
        "outputId": "79d9c27d-76ee-49eb-c521-64e41589b517",
        "colab": {
          "base_uri": "https://localhost:8080/"
        }
      },
      "outputs": [
        {
          "output_type": "execute_result",
          "data": {
            "text/plain": [
              "customerID          0\n",
              "gender              0\n",
              "SeniorCitizen       0\n",
              "Partner             0\n",
              "Dependents          0\n",
              "tenure              0\n",
              "PhoneService        0\n",
              "MultipleLines       0\n",
              "InternetService     0\n",
              "OnlineSecurity      0\n",
              "OnlineBackup        0\n",
              "DeviceProtection    0\n",
              "TechSupport         0\n",
              "StreamingTV         0\n",
              "StreamingMovies     0\n",
              "Contract            0\n",
              "PaperlessBilling    0\n",
              "PaymentMethod       0\n",
              "MonthlyCharges      0\n",
              "TotalCharges        0\n",
              "Churn               0\n",
              "dtype: int64"
            ]
          },
          "metadata": {},
          "execution_count": 21
        }
      ],
      "source": [
        "# Check for missing values.\n",
        "data.isna().sum()"
      ]
    },
    {
      "cell_type": "code",
      "execution_count": 22,
      "id": "368c77bd",
      "metadata": {
        "execution": {
          "iopub.execute_input": "2022-12-24T20:16:29.793007Z",
          "iopub.status.busy": "2022-12-24T20:16:29.792493Z",
          "iopub.status.idle": "2022-12-24T20:16:29.822537Z",
          "shell.execute_reply": "2022-12-24T20:16:29.821292Z"
        },
        "papermill": {
          "duration": 0.046618,
          "end_time": "2022-12-24T20:16:29.824998",
          "exception": false,
          "start_time": "2022-12-24T20:16:29.778380",
          "status": "completed"
        },
        "tags": [],
        "id": "368c77bd",
        "outputId": "e355a1c9-f69c-453b-8a84-08c0d8de8943",
        "colab": {
          "base_uri": "https://localhost:8080/",
          "height": 300
        }
      },
      "outputs": [
        {
          "output_type": "execute_result",
          "data": {
            "text/plain": [
              "       SeniorCitizen       tenure  MonthlyCharges\n",
              "count    7043.000000  7043.000000     7043.000000\n",
              "mean        0.162147    32.371149       64.761692\n",
              "std         0.368612    24.559481       30.090047\n",
              "min         0.000000     0.000000       18.250000\n",
              "25%         0.000000     9.000000       35.500000\n",
              "50%         0.000000    29.000000       70.350000\n",
              "75%         0.000000    55.000000       89.850000\n",
              "max         1.000000    72.000000      118.750000"
            ],
            "text/html": [
              "\n",
              "  <div id=\"df-d9491ed5-4be4-4ca3-a61a-096330e0f658\">\n",
              "    <div class=\"colab-df-container\">\n",
              "      <div>\n",
              "<style scoped>\n",
              "    .dataframe tbody tr th:only-of-type {\n",
              "        vertical-align: middle;\n",
              "    }\n",
              "\n",
              "    .dataframe tbody tr th {\n",
              "        vertical-align: top;\n",
              "    }\n",
              "\n",
              "    .dataframe thead th {\n",
              "        text-align: right;\n",
              "    }\n",
              "</style>\n",
              "<table border=\"1\" class=\"dataframe\">\n",
              "  <thead>\n",
              "    <tr style=\"text-align: right;\">\n",
              "      <th></th>\n",
              "      <th>SeniorCitizen</th>\n",
              "      <th>tenure</th>\n",
              "      <th>MonthlyCharges</th>\n",
              "    </tr>\n",
              "  </thead>\n",
              "  <tbody>\n",
              "    <tr>\n",
              "      <th>count</th>\n",
              "      <td>7043.000000</td>\n",
              "      <td>7043.000000</td>\n",
              "      <td>7043.000000</td>\n",
              "    </tr>\n",
              "    <tr>\n",
              "      <th>mean</th>\n",
              "      <td>0.162147</td>\n",
              "      <td>32.371149</td>\n",
              "      <td>64.761692</td>\n",
              "    </tr>\n",
              "    <tr>\n",
              "      <th>std</th>\n",
              "      <td>0.368612</td>\n",
              "      <td>24.559481</td>\n",
              "      <td>30.090047</td>\n",
              "    </tr>\n",
              "    <tr>\n",
              "      <th>min</th>\n",
              "      <td>0.000000</td>\n",
              "      <td>0.000000</td>\n",
              "      <td>18.250000</td>\n",
              "    </tr>\n",
              "    <tr>\n",
              "      <th>25%</th>\n",
              "      <td>0.000000</td>\n",
              "      <td>9.000000</td>\n",
              "      <td>35.500000</td>\n",
              "    </tr>\n",
              "    <tr>\n",
              "      <th>50%</th>\n",
              "      <td>0.000000</td>\n",
              "      <td>29.000000</td>\n",
              "      <td>70.350000</td>\n",
              "    </tr>\n",
              "    <tr>\n",
              "      <th>75%</th>\n",
              "      <td>0.000000</td>\n",
              "      <td>55.000000</td>\n",
              "      <td>89.850000</td>\n",
              "    </tr>\n",
              "    <tr>\n",
              "      <th>max</th>\n",
              "      <td>1.000000</td>\n",
              "      <td>72.000000</td>\n",
              "      <td>118.750000</td>\n",
              "    </tr>\n",
              "  </tbody>\n",
              "</table>\n",
              "</div>\n",
              "      <button class=\"colab-df-convert\" onclick=\"convertToInteractive('df-d9491ed5-4be4-4ca3-a61a-096330e0f658')\"\n",
              "              title=\"Convert this dataframe to an interactive table.\"\n",
              "              style=\"display:none;\">\n",
              "        \n",
              "  <svg xmlns=\"http://www.w3.org/2000/svg\" height=\"24px\"viewBox=\"0 0 24 24\"\n",
              "       width=\"24px\">\n",
              "    <path d=\"M0 0h24v24H0V0z\" fill=\"none\"/>\n",
              "    <path d=\"M18.56 5.44l.94 2.06.94-2.06 2.06-.94-2.06-.94-.94-2.06-.94 2.06-2.06.94zm-11 1L8.5 8.5l.94-2.06 2.06-.94-2.06-.94L8.5 2.5l-.94 2.06-2.06.94zm10 10l.94 2.06.94-2.06 2.06-.94-2.06-.94-.94-2.06-.94 2.06-2.06.94z\"/><path d=\"M17.41 7.96l-1.37-1.37c-.4-.4-.92-.59-1.43-.59-.52 0-1.04.2-1.43.59L10.3 9.45l-7.72 7.72c-.78.78-.78 2.05 0 2.83L4 21.41c.39.39.9.59 1.41.59.51 0 1.02-.2 1.41-.59l7.78-7.78 2.81-2.81c.8-.78.8-2.07 0-2.86zM5.41 20L4 18.59l7.72-7.72 1.47 1.35L5.41 20z\"/>\n",
              "  </svg>\n",
              "      </button>\n",
              "      \n",
              "  <style>\n",
              "    .colab-df-container {\n",
              "      display:flex;\n",
              "      flex-wrap:wrap;\n",
              "      gap: 12px;\n",
              "    }\n",
              "\n",
              "    .colab-df-convert {\n",
              "      background-color: #E8F0FE;\n",
              "      border: none;\n",
              "      border-radius: 50%;\n",
              "      cursor: pointer;\n",
              "      display: none;\n",
              "      fill: #1967D2;\n",
              "      height: 32px;\n",
              "      padding: 0 0 0 0;\n",
              "      width: 32px;\n",
              "    }\n",
              "\n",
              "    .colab-df-convert:hover {\n",
              "      background-color: #E2EBFA;\n",
              "      box-shadow: 0px 1px 2px rgba(60, 64, 67, 0.3), 0px 1px 3px 1px rgba(60, 64, 67, 0.15);\n",
              "      fill: #174EA6;\n",
              "    }\n",
              "\n",
              "    [theme=dark] .colab-df-convert {\n",
              "      background-color: #3B4455;\n",
              "      fill: #D2E3FC;\n",
              "    }\n",
              "\n",
              "    [theme=dark] .colab-df-convert:hover {\n",
              "      background-color: #434B5C;\n",
              "      box-shadow: 0px 1px 3px 1px rgba(0, 0, 0, 0.15);\n",
              "      filter: drop-shadow(0px 1px 2px rgba(0, 0, 0, 0.3));\n",
              "      fill: #FFFFFF;\n",
              "    }\n",
              "  </style>\n",
              "\n",
              "      <script>\n",
              "        const buttonEl =\n",
              "          document.querySelector('#df-d9491ed5-4be4-4ca3-a61a-096330e0f658 button.colab-df-convert');\n",
              "        buttonEl.style.display =\n",
              "          google.colab.kernel.accessAllowed ? 'block' : 'none';\n",
              "\n",
              "        async function convertToInteractive(key) {\n",
              "          const element = document.querySelector('#df-d9491ed5-4be4-4ca3-a61a-096330e0f658');\n",
              "          const dataTable =\n",
              "            await google.colab.kernel.invokeFunction('convertToInteractive',\n",
              "                                                     [key], {});\n",
              "          if (!dataTable) return;\n",
              "\n",
              "          const docLinkHtml = 'Like what you see? Visit the ' +\n",
              "            '<a target=\"_blank\" href=https://colab.research.google.com/notebooks/data_table.ipynb>data table notebook</a>'\n",
              "            + ' to learn more about interactive tables.';\n",
              "          element.innerHTML = '';\n",
              "          dataTable['output_type'] = 'display_data';\n",
              "          await google.colab.output.renderOutput(dataTable, element);\n",
              "          const docLink = document.createElement('div');\n",
              "          docLink.innerHTML = docLinkHtml;\n",
              "          element.appendChild(docLink);\n",
              "        }\n",
              "      </script>\n",
              "    </div>\n",
              "  </div>\n",
              "  "
            ]
          },
          "metadata": {},
          "execution_count": 22
        }
      ],
      "source": [
        "# Description of the data in the dataframe.\n",
        "data.describe()"
      ]
    },
    {
      "cell_type": "code",
      "execution_count": 23,
      "id": "a3b5a110",
      "metadata": {
        "execution": {
          "iopub.execute_input": "2022-12-24T20:16:29.852160Z",
          "iopub.status.busy": "2022-12-24T20:16:29.851746Z",
          "iopub.status.idle": "2022-12-24T20:16:29.861115Z",
          "shell.execute_reply": "2022-12-24T20:16:29.859831Z"
        },
        "papermill": {
          "duration": 0.025713,
          "end_time": "2022-12-24T20:16:29.863461",
          "exception": false,
          "start_time": "2022-12-24T20:16:29.837748",
          "status": "completed"
        },
        "tags": [],
        "id": "a3b5a110",
        "outputId": "c9027652-6e22-49c3-cc50-8aa13db199a0",
        "colab": {
          "base_uri": "https://localhost:8080/"
        }
      },
      "outputs": [
        {
          "output_type": "execute_result",
          "data": {
            "text/plain": [
              "No     5174\n",
              "Yes    1869\n",
              "Name: Churn, dtype: int64"
            ]
          },
          "metadata": {},
          "execution_count": 23
        }
      ],
      "source": [
        "# Number of customers that were retained and churned.\n",
        "data['Churn'].value_counts()"
      ]
    },
    {
      "cell_type": "code",
      "execution_count": 24,
      "id": "bddad614",
      "metadata": {
        "execution": {
          "iopub.execute_input": "2022-12-24T20:16:29.890790Z",
          "iopub.status.busy": "2022-12-24T20:16:29.890404Z",
          "iopub.status.idle": "2022-12-24T20:16:29.904162Z",
          "shell.execute_reply": "2022-12-24T20:16:29.902896Z"
        },
        "papermill": {
          "duration": 0.030434,
          "end_time": "2022-12-24T20:16:29.906735",
          "exception": false,
          "start_time": "2022-12-24T20:16:29.876301",
          "status": "completed"
        },
        "tags": [],
        "id": "bddad614",
        "outputId": "0fa3eb5d-d525-44a1-c257-8afa85814e77",
        "colab": {
          "base_uri": "https://localhost:8080/"
        }
      },
      "outputs": [
        {
          "output_type": "stream",
          "name": "stdout",
          "text": [
            "73.46 % of customers were retained.\n",
            "26.54 % of customers have churned.\n"
          ]
        }
      ],
      "source": [
        "# Create separate dataframes for retained and churned customers.\n",
        "retained_cust=data[data.Churn == 'No']\n",
        "churned_cust=data[data.Churn == 'Yes']\n",
        "\n",
        "# Get the number of rows for each dataframe.\n",
        "num_retained_cust=retained_cust.shape[0]\n",
        "num_churned_cust=churned_cust.shape[0]\n",
        "total_cust_num=data.shape[0]\n",
        "\n",
        "# Percentage of customers that were retained and left (results rounded to 2 decimals).\n",
        "print(round(num_retained_cust / total_cust_num * 100,2), \"% of customers were retained.\")\n",
        "print(round(num_churned_cust / total_cust_num * 100,2), \"% of customers have churned.\")"
      ]
    },
    {
      "cell_type": "markdown",
      "id": "49a4e061",
      "metadata": {
        "papermill": {
          "duration": 0.012621,
          "end_time": "2022-12-24T20:16:29.932390",
          "exception": false,
          "start_time": "2022-12-24T20:16:29.919769",
          "status": "completed"
        },
        "tags": [],
        "id": "49a4e061"
      },
      "source": [
        "# Exploratory Data Analysis"
      ]
    },
    {
      "cell_type": "code",
      "execution_count": 25,
      "id": "6e2c428c",
      "metadata": {
        "execution": {
          "iopub.execute_input": "2022-12-24T20:16:29.959906Z",
          "iopub.status.busy": "2022-12-24T20:16:29.959461Z",
          "iopub.status.idle": "2022-12-24T20:16:30.138183Z",
          "shell.execute_reply": "2022-12-24T20:16:30.136403Z"
        },
        "papermill": {
          "duration": 0.197302,
          "end_time": "2022-12-24T20:16:30.142534",
          "exception": false,
          "start_time": "2022-12-24T20:16:29.945232",
          "status": "completed"
        },
        "tags": [],
        "id": "6e2c428c",
        "outputId": "1a59257e-1dd4-4a98-e3f9-1b9d0a9028c8",
        "colab": {
          "base_uri": "https://localhost:8080/",
          "height": 351
        }
      },
      "outputs": [
        {
          "output_type": "stream",
          "name": "stderr",
          "text": [
            "/usr/local/lib/python3.8/dist-packages/seaborn/_decorators.py:36: FutureWarning: Pass the following variable as a keyword arg: x. From version 0.12, the only valid positional argument will be `data`, and passing other arguments without an explicit keyword will result in an error or misinterpretation.\n",
            "  warnings.warn(\n"
          ]
        },
        {
          "output_type": "execute_result",
          "data": {
            "text/plain": [
              "<matplotlib.axes._subplots.AxesSubplot at 0x7f1178a79bb0>"
            ]
          },
          "metadata": {},
          "execution_count": 25
        },
        {
          "output_type": "display_data",
          "data": {
            "text/plain": [
              "<Figure size 432x288 with 1 Axes>"
            ],
            "image/png": "[encoded data removed]"
          },
          "metadata": {
            "needs_background": "light"
          }
        }
      ],
      "source": [
        "# Visualize the customer churn.\n",
        "sns.countplot(data['Churn'], palette='Set2')"
      ]
    },
    {
      "cell_type": "markdown",
      "id": "a62d2f83",
      "metadata": {
        "papermill": {
          "duration": 0.013204,
          "end_time": "2022-12-24T20:16:30.174364",
          "exception": false,
          "start_time": "2022-12-24T20:16:30.161160",
          "status": "completed"
        },
        "tags": [],
        "id": "a62d2f83"
      },
      "source": [
        "## Let's dive into the dataset to get some useful insights in regards to churn.\n",
        "### We divide the variables into 3 main categories:\n",
        "1. Customer demographics\n",
        "2. Customer account information\n",
        "3. Signed services"
      ]
    },
    {
      "cell_type": "markdown",
      "id": "7b32c497",
      "metadata": {
        "papermill": {
          "duration": 0.013072,
          "end_time": "2022-12-24T20:16:30.200842",
          "exception": false,
          "start_time": "2022-12-24T20:16:30.187770",
          "status": "completed"
        },
        "tags": [],
        "id": "7b32c497"
      },
      "source": [
        "### 1. Customer demographics:"
      ]
    },
    {
      "cell_type": "code",
      "execution_count": 26,
      "id": "b1d4cb02",
      "metadata": {
        "execution": {
          "iopub.execute_input": "2022-12-24T20:16:30.230237Z",
          "iopub.status.busy": "2022-12-24T20:16:30.229132Z",
          "iopub.status.idle": "2022-12-24T20:16:30.456307Z",
          "shell.execute_reply": "2022-12-24T20:16:30.455508Z"
        },
        "papermill": {
          "duration": 0.244134,
          "end_time": "2022-12-24T20:16:30.458372",
          "exception": false,
          "start_time": "2022-12-24T20:16:30.214238",
          "status": "completed"
        },
        "tags": [],
        "id": "b1d4cb02",
        "outputId": "1fe0a4c4-212c-418a-cd38-20a6dca9e11b",
        "colab": {
          "base_uri": "https://localhost:8080/",
          "height": 296
        }
      },
      "outputs": [
        {
          "output_type": "execute_result",
          "data": {
            "text/plain": [
              "<matplotlib.axes._subplots.AxesSubplot at 0x7f1178755c70>"
            ]
          },
          "metadata": {},
          "execution_count": 26
        },
        {
          "output_type": "display_data",
          "data": {
            "text/plain": [
              "<Figure size 432x288 with 1 Axes>"
            ],
            "image/png": "[encoded data removed]"
          },
          "metadata": {
            "needs_background": "light"
          }
        }
      ],
      "source": [
        "# Visualize the customer churn per gender.\n",
        "sns.countplot(x='gender', hue='Churn', palette='Set2', data=data)"
      ]
    },
    {
      "cell_type": "markdown",
      "id": "e61d1d6f",
      "metadata": {
        "papermill": {
          "duration": 0.013279,
          "end_time": "2022-12-24T20:16:30.485446",
          "exception": false,
          "start_time": "2022-12-24T20:16:30.472167",
          "status": "completed"
        },
        "tags": [],
        "id": "e61d1d6f"
      },
      "source": [
        "#### *Insight:* Gender does not appear to be a significant factor when it comes to customer churn."
      ]
    },
    {
      "cell_type": "code",
      "execution_count": 27,
      "id": "048f5278",
      "metadata": {
        "execution": {
          "iopub.execute_input": "2022-12-24T20:16:30.514880Z",
          "iopub.status.busy": "2022-12-24T20:16:30.514164Z",
          "iopub.status.idle": "2022-12-24T20:16:30.733193Z",
          "shell.execute_reply": "2022-12-24T20:16:30.732003Z"
        },
        "papermill": {
          "duration": 0.236425,
          "end_time": "2022-12-24T20:16:30.735557",
          "exception": false,
          "start_time": "2022-12-24T20:16:30.499132",
          "status": "completed"
        },
        "tags": [],
        "id": "048f5278",
        "outputId": "2cc0ad39-d0d8-4f4d-a895-abb5645acc27",
        "colab": {
          "base_uri": "https://localhost:8080/",
          "height": 296
        }
      },
      "outputs": [
        {
          "output_type": "execute_result",
          "data": {
            "text/plain": [
              "<matplotlib.axes._subplots.AxesSubplot at 0x7f11782d1310>"
            ]
          },
          "metadata": {},
          "execution_count": 27
        },
        {
          "output_type": "display_data",
          "data": {
            "text/plain": [
              "<Figure size 432x288 with 1 Axes>"
            ],
            "image/png": "[encoded data removed]"
          },
          "metadata": {
            "needs_background": "light"
          }
        }
      ],
      "source": [
        "# Visualize the churn in relation to the age of the customer (whether the customer is considered senior on not).\n",
        "sns.countplot(x='SeniorCitizen', hue='Churn', palette='Set2', data=data)"
      ]
    },
    {
      "cell_type": "markdown",
      "id": "03665917",
      "metadata": {
        "papermill": {
          "duration": 0.013733,
          "end_time": "2022-12-24T20:16:30.763479",
          "exception": false,
          "start_time": "2022-12-24T20:16:30.749746",
          "status": "completed"
        },
        "tags": [],
        "id": "03665917"
      },
      "source": [
        "#### *Insight:* The majority of the customers that churn are not senior citizens."
      ]
    },
    {
      "cell_type": "code",
      "execution_count": 28,
      "id": "5e7c56d3",
      "metadata": {
        "execution": {
          "iopub.execute_input": "2022-12-24T20:16:30.793609Z",
          "iopub.status.busy": "2022-12-24T20:16:30.793190Z",
          "iopub.status.idle": "2022-12-24T20:16:31.026229Z",
          "shell.execute_reply": "2022-12-24T20:16:31.024993Z"
        },
        "papermill": {
          "duration": 0.25115,
          "end_time": "2022-12-24T20:16:31.028742",
          "exception": false,
          "start_time": "2022-12-24T20:16:30.777592",
          "status": "completed"
        },
        "tags": [],
        "id": "5e7c56d3",
        "outputId": "6ce691cb-36b2-4270-9070-b55e9403a39d",
        "colab": {
          "base_uri": "https://localhost:8080/",
          "height": 297
        }
      },
      "outputs": [
        {
          "output_type": "execute_result",
          "data": {
            "text/plain": [
              "<matplotlib.axes._subplots.AxesSubplot at 0x7f11782e3610>"
            ]
          },
          "metadata": {},
          "execution_count": 28
        },
        {
          "output_type": "display_data",
          "data": {
            "text/plain": [
              "<Figure size 432x288 with 1 Axes>"
            ],
            "image/png": "[encoded data removed]"
          },
          "metadata": {
            "needs_background": "light"
          }
        }
      ],
      "source": [
        "# Visualize the customer churn in relation to the dependents variable.\n",
        "sns.countplot(x='Dependents', hue='Churn', palette='Set2', data=data)"
      ]
    },
    {
      "cell_type": "markdown",
      "id": "a5479129",
      "metadata": {
        "papermill": {
          "duration": 0.014265,
          "end_time": "2022-12-24T20:16:31.057532",
          "exception": false,
          "start_time": "2022-12-24T20:16:31.043267",
          "status": "completed"
        },
        "tags": [],
        "id": "a5479129"
      },
      "source": [
        "#### *Insight:* The majority of the customers that left the company did not have dependents."
      ]
    },
    {
      "cell_type": "code",
      "execution_count": 29,
      "id": "5469ec1c",
      "metadata": {
        "execution": {
          "iopub.execute_input": "2022-12-24T20:16:31.088451Z",
          "iopub.status.busy": "2022-12-24T20:16:31.088055Z",
          "iopub.status.idle": "2022-12-24T20:16:31.312972Z",
          "shell.execute_reply": "2022-12-24T20:16:31.311813Z"
        },
        "papermill": {
          "duration": 0.243368,
          "end_time": "2022-12-24T20:16:31.315372",
          "exception": false,
          "start_time": "2022-12-24T20:16:31.072004",
          "status": "completed"
        },
        "tags": [],
        "id": "5469ec1c",
        "outputId": "22bbce7a-b8e5-420f-d76d-7e611c2a2a7b",
        "colab": {
          "base_uri": "https://localhost:8080/",
          "height": 296
        }
      },
      "outputs": [
        {
          "output_type": "execute_result",
          "data": {
            "text/plain": [
              "<matplotlib.axes._subplots.AxesSubplot at 0x7f117822a070>"
            ]
          },
          "metadata": {},
          "execution_count": 29
        },
        {
          "output_type": "display_data",
          "data": {
            "text/plain": [
              "<Figure size 432x288 with 1 Axes>"
            ],
            "image/png": "[encoded data removed]"
          },
          "metadata": {
            "needs_background": "light"
          }
        }
      ],
      "source": [
        "# Visualize the customer churn in relation to the partner variable.\n",
        "sns.countplot(x='Partner', hue='Churn', palette='Set2', data=data)"
      ]
    },
    {
      "cell_type": "markdown",
      "id": "16318fed",
      "metadata": {
        "papermill": {
          "duration": 0.014717,
          "end_time": "2022-12-24T20:16:31.345121",
          "exception": false,
          "start_time": "2022-12-24T20:16:31.330404",
          "status": "completed"
        },
        "tags": [],
        "id": "16318fed"
      },
      "source": [
        "#### *Insight:* It appears that most of the customers that churn, do not have partners."
      ]
    },
    {
      "cell_type": "markdown",
      "id": "72ae2f6f",
      "metadata": {
        "papermill": {
          "duration": 0.014793,
          "end_time": "2022-12-24T20:16:31.374939",
          "exception": false,
          "start_time": "2022-12-24T20:16:31.360146",
          "status": "completed"
        },
        "tags": [],
        "id": "72ae2f6f"
      },
      "source": [
        "### 2. Customer account information:"
      ]
    },
    {
      "cell_type": "code",
      "execution_count": 30,
      "id": "6a74cfdc",
      "metadata": {
        "execution": {
          "iopub.execute_input": "2022-12-24T20:16:31.406823Z",
          "iopub.status.busy": "2022-12-24T20:16:31.406386Z",
          "iopub.status.idle": "2022-12-24T20:16:31.642436Z",
          "shell.execute_reply": "2022-12-24T20:16:31.641306Z"
        },
        "papermill": {
          "duration": 0.254882,
          "end_time": "2022-12-24T20:16:31.644883",
          "exception": false,
          "start_time": "2022-12-24T20:16:31.390001",
          "status": "completed"
        },
        "tags": [],
        "id": "6a74cfdc",
        "outputId": "57d63fd4-d76b-4fb5-aeb6-7c2012ec2e45",
        "colab": {
          "base_uri": "https://localhost:8080/",
          "height": 296
        }
      },
      "outputs": [
        {
          "output_type": "execute_result",
          "data": {
            "text/plain": [
              "<matplotlib.axes._subplots.AxesSubplot at 0x7f1178170310>"
            ]
          },
          "metadata": {},
          "execution_count": 30
        },
        {
          "output_type": "display_data",
          "data": {
            "text/plain": [
              "<Figure size 432x288 with 1 Axes>"
            ],
            "image/png": "[encoded data removed]"
          },
          "metadata": {
            "needs_background": "light"
          }
        }
      ],
      "source": [
        "# Visualize the customer churn in relation to the contract.\n",
        "sns.countplot(x='Contract', hue='Churn', palette='Set2', data=data)"
      ]
    },
    {
      "cell_type": "markdown",
      "id": "3f5098bf",
      "metadata": {
        "papermill": {
          "duration": 0.015122,
          "end_time": "2022-12-24T20:16:31.675614",
          "exception": false,
          "start_time": "2022-12-24T20:16:31.660492",
          "status": "completed"
        },
        "tags": [],
        "id": "3f5098bf"
      },
      "source": [
        "#### *Insight:* Month-to-month contracts seem to have the highest amount of churned customers, while 2-year contracts have the least amount of churned customers, followed by 1-year contracts."
      ]
    },
    {
      "cell_type": "code",
      "execution_count": 31,
      "id": "3db84a99",
      "metadata": {
        "execution": {
          "iopub.execute_input": "2022-12-24T20:16:31.708468Z",
          "iopub.status.busy": "2022-12-24T20:16:31.707546Z",
          "iopub.status.idle": "2022-12-24T20:16:31.933418Z",
          "shell.execute_reply": "2022-12-24T20:16:31.932499Z"
        },
        "papermill": {
          "duration": 0.244676,
          "end_time": "2022-12-24T20:16:31.935582",
          "exception": false,
          "start_time": "2022-12-24T20:16:31.690906",
          "status": "completed"
        },
        "tags": [],
        "id": "3db84a99",
        "outputId": "bdb6915a-3cc0-4ab6-90f8-5082a755ff6a",
        "colab": {
          "base_uri": "https://localhost:8080/",
          "height": 296
        }
      },
      "outputs": [
        {
          "output_type": "execute_result",
          "data": {
            "text/plain": [
              "<matplotlib.axes._subplots.AxesSubplot at 0x7f117815e430>"
            ]
          },
          "metadata": {},
          "execution_count": 31
        },
        {
          "output_type": "display_data",
          "data": {
            "text/plain": [
              "<Figure size 432x288 with 1 Axes>"
            ],
            "image/png": "[encoded data removed]"
          },
          "metadata": {
            "needs_background": "light"
          }
        }
      ],
      "source": [
        "# Visualize the customer churn in relation to the paperless billing service.\n",
        "sns.countplot(x='PaperlessBilling', hue='Churn', palette='Set2', data=data)"
      ]
    },
    {
      "cell_type": "markdown",
      "id": "73adf483",
      "metadata": {
        "papermill": {
          "duration": 0.015416,
          "end_time": "2022-12-24T20:16:31.966817",
          "exception": false,
          "start_time": "2022-12-24T20:16:31.951401",
          "status": "completed"
        },
        "tags": [],
        "id": "73adf483"
      },
      "source": [
        "#### *Insight:*  The majority of the customers that left the company had opted for paperless billing."
      ]
    },
    {
      "cell_type": "code",
      "execution_count": 32,
      "id": "3dadaf9a",
      "metadata": {
        "execution": {
          "iopub.execute_input": "2022-12-24T20:16:32.001131Z",
          "iopub.status.busy": "2022-12-24T20:16:32.000671Z",
          "iopub.status.idle": "2022-12-24T20:16:32.274581Z",
          "shell.execute_reply": "2022-12-24T20:16:32.273368Z"
        },
        "papermill": {
          "duration": 0.294376,
          "end_time": "2022-12-24T20:16:32.276971",
          "exception": false,
          "start_time": "2022-12-24T20:16:31.982595",
          "status": "completed"
        },
        "tags": [],
        "id": "3dadaf9a",
        "outputId": "0a029ed1-4539-49d8-953d-e11e3e839790",
        "colab": {
          "base_uri": "https://localhost:8080/",
          "height": 437
        }
      },
      "outputs": [
        {
          "output_type": "execute_result",
          "data": {
            "text/plain": [
              "[Text(0, 0, 'Electronic check'),\n",
              " Text(0, 0, 'Mailed check'),\n",
              " Text(0, 0, 'Bank transfer (automatic)'),\n",
              " Text(0, 0, 'Credit card (automatic)')]"
            ]
          },
          "metadata": {},
          "execution_count": 32
        },
        {
          "output_type": "display_data",
          "data": {
            "text/plain": [
              "<Figure size 432x288 with 1 Axes>"
            ],
            "image/png": "[encoded data removed]"
          },
          "metadata": {
            "needs_background": "light"
          }
        }
      ],
      "source": [
        "# Visualize the customer churn in relation to the payment method.\n",
        "cplt=sns.countplot(x='PaymentMethod', hue='Churn', palette='Set2', data=data)\n",
        "cplt.set_xticklabels(cplt.get_xticklabels(), rotation=45)"
      ]
    },
    {
      "cell_type": "markdown",
      "id": "7a750061",
      "metadata": {
        "papermill": {
          "duration": 0.015952,
          "end_time": "2022-12-24T20:16:32.309614",
          "exception": false,
          "start_time": "2022-12-24T20:16:32.293662",
          "status": "completed"
        },
        "tags": [],
        "id": "7a750061"
      },
      "source": [
        "#### *Insight:* Most of the customers that churned had chosen the electronic check as the payment method. There is a significant difference between this payment method and the automatic ones (bank transfer, credit card) as well as the mailed check."
      ]
    },
    {
      "cell_type": "code",
      "execution_count": 33,
      "id": "bb14ac7c",
      "metadata": {
        "execution": {
          "iopub.execute_input": "2022-12-24T20:16:32.344847Z",
          "iopub.status.busy": "2022-12-24T20:16:32.344189Z",
          "iopub.status.idle": "2022-12-24T20:16:32.628815Z",
          "shell.execute_reply": "2022-12-24T20:16:32.627933Z"
        },
        "papermill": {
          "duration": 0.305111,
          "end_time": "2022-12-24T20:16:32.631169",
          "exception": false,
          "start_time": "2022-12-24T20:16:32.326058",
          "status": "completed"
        },
        "tags": [],
        "id": "bb14ac7c",
        "outputId": "8cfad710-6d9e-40d2-bcd0-6e698a5739e2",
        "colab": {
          "base_uri": "https://localhost:8080/",
          "height": 298
        }
      },
      "outputs": [
        {
          "output_type": "execute_result",
          "data": {
            "text/plain": [
              "Text(0.5, 1.0, 'Tenure')"
            ]
          },
          "metadata": {},
          "execution_count": 33
        },
        {
          "output_type": "display_data",
          "data": {
            "text/plain": [
              "<Figure size 432x288 with 1 Axes>"
            ],
            "image/png": "[encoded data removed]"
          },
          "metadata": {
            "needs_background": "light"
          }
        }
      ],
      "source": [
        "# Visualize the customer churn in relation to the number of months the customer has stayed with the company.\n",
        "data[data.Churn == 'No']['tenure'].hist(bins=10, color='lightseagreen', alpha=0.8)\n",
        "data[data.Churn == 'Yes']['tenure'].hist(bins=10, color='lightsalmon', alpha=0.8)\n",
        "plt.title('Tenure')"
      ]
    },
    {
      "cell_type": "markdown",
      "id": "0800b554",
      "metadata": {
        "papermill": {
          "duration": 0.016355,
          "end_time": "2022-12-24T20:16:32.664321",
          "exception": false,
          "start_time": "2022-12-24T20:16:32.647966",
          "status": "completed"
        },
        "tags": [],
        "id": "0800b554"
      },
      "source": [
        "#### *Insight:* Between 0 and 8 months, the possibility of a customers churning is high. However, the longer a customers stays in the company, the less likely he/she is to churn."
      ]
    },
    {
      "cell_type": "code",
      "execution_count": 34,
      "id": "b0dc9b70",
      "metadata": {
        "execution": {
          "iopub.execute_input": "2022-12-24T20:16:32.699994Z",
          "iopub.status.busy": "2022-12-24T20:16:32.699365Z",
          "iopub.status.idle": "2022-12-24T20:16:32.964655Z",
          "shell.execute_reply": "2022-12-24T20:16:32.963829Z"
        },
        "papermill": {
          "duration": 0.285963,
          "end_time": "2022-12-24T20:16:32.967071",
          "exception": false,
          "start_time": "2022-12-24T20:16:32.681108",
          "status": "completed"
        },
        "tags": [],
        "id": "b0dc9b70",
        "outputId": "f8cfc89f-1166-4efc-de71-e0937eecdab6",
        "colab": {
          "base_uri": "https://localhost:8080/",
          "height": 298
        }
      },
      "outputs": [
        {
          "output_type": "execute_result",
          "data": {
            "text/plain": [
              "Text(0.5, 1.0, 'Monthly Charges')"
            ]
          },
          "metadata": {},
          "execution_count": 34
        },
        {
          "output_type": "display_data",
          "data": {
            "text/plain": [
              "<Figure size 432x288 with 1 Axes>"
            ],
            "image/png": "[encoded data removed]"
          },
          "metadata": {
            "needs_background": "light"
          }
        }
      ],
      "source": [
        "# Visualize the customer churn in relation to the customer's monthly charges.\n",
        "data[data.Churn == 'No']['MonthlyCharges'].hist(bins=10, color='lightseagreen', alpha=0.8)\n",
        "data[data.Churn == 'Yes']['MonthlyCharges'].hist(bins=10, color='lightsalmon', alpha=0.8)\n",
        "plt.title('Monthly Charges')"
      ]
    },
    {
      "cell_type": "markdown",
      "id": "b0d97c6c",
      "metadata": {
        "papermill": {
          "duration": 0.017344,
          "end_time": "2022-12-24T20:16:33.001872",
          "exception": false,
          "start_time": "2022-12-24T20:16:32.984528",
          "status": "completed"
        },
        "tags": [],
        "id": "b0d97c6c"
      },
      "source": [
        "#### *Insight:* The lower the amount of charges per month, the less likely the customer will churn. Especially for the range 18-28 dollars/month, the customer retention is extremely high. However, as the monthly charges increase, the probability of a customer churning increases as well."
      ]
    },
    {
      "cell_type": "markdown",
      "id": "e7b0c67d",
      "metadata": {
        "papermill": {
          "duration": 0.016579,
          "end_time": "2022-12-24T20:16:33.035679",
          "exception": false,
          "start_time": "2022-12-24T20:16:33.019100",
          "status": "completed"
        },
        "tags": [],
        "id": "e7b0c67d"
      },
      "source": [
        "### 3. Signed services:"
      ]
    },
    {
      "cell_type": "code",
      "execution_count": 35,
      "id": "fb580063",
      "metadata": {
        "execution": {
          "iopub.execute_input": "2022-12-24T20:16:33.073143Z",
          "iopub.status.busy": "2022-12-24T20:16:33.072516Z",
          "iopub.status.idle": "2022-12-24T20:16:33.320234Z",
          "shell.execute_reply": "2022-12-24T20:16:33.319349Z"
        },
        "papermill": {
          "duration": 0.269668,
          "end_time": "2022-12-24T20:16:33.322425",
          "exception": false,
          "start_time": "2022-12-24T20:16:33.052757",
          "status": "completed"
        },
        "tags": [],
        "id": "fb580063",
        "outputId": "8b8b1583-b745-4007-9c9d-c8930d63a5ad",
        "colab": {
          "base_uri": "https://localhost:8080/",
          "height": 296
        }
      },
      "outputs": [
        {
          "output_type": "execute_result",
          "data": {
            "text/plain": [
              "<matplotlib.axes._subplots.AxesSubplot at 0x7f1177f15dc0>"
            ]
          },
          "metadata": {},
          "execution_count": 35
        },
        {
          "output_type": "display_data",
          "data": {
            "text/plain": [
              "<Figure size 432x288 with 1 Axes>"
            ],
            "image/png": "[encoded data removed]"
          },
          "metadata": {
            "needs_background": "light"
          }
        }
      ],
      "source": [
        "# Visualize the customer churn in relation to the internet service variable.\n",
        "sns.countplot(x='InternetService', hue='Churn', palette='Set2', data=data)"
      ]
    },
    {
      "cell_type": "markdown",
      "id": "9a37797b",
      "metadata": {
        "papermill": {
          "duration": 0.019182,
          "end_time": "2022-12-24T20:16:33.359873",
          "exception": false,
          "start_time": "2022-12-24T20:16:33.340691",
          "status": "completed"
        },
        "tags": [],
        "id": "9a37797b"
      },
      "source": [
        "#### *Insight:* It appears thet the majority of the customers that left the company had fiber optics, while the majority of the retained customers had a DSL internet service."
      ]
    },
    {
      "cell_type": "code",
      "execution_count": 36,
      "id": "9e836db4",
      "metadata": {
        "execution": {
          "iopub.execute_input": "2022-12-24T20:16:33.397703Z",
          "iopub.status.busy": "2022-12-24T20:16:33.396959Z",
          "iopub.status.idle": "2022-12-24T20:16:33.644813Z",
          "shell.execute_reply": "2022-12-24T20:16:33.643912Z"
        },
        "papermill": {
          "duration": 0.2691,
          "end_time": "2022-12-24T20:16:33.647004",
          "exception": false,
          "start_time": "2022-12-24T20:16:33.377904",
          "status": "completed"
        },
        "tags": [],
        "id": "9e836db4",
        "outputId": "45e1b081-5747-4af8-8dbf-0bd7798308ec",
        "colab": {
          "base_uri": "https://localhost:8080/",
          "height": 296
        }
      },
      "outputs": [
        {
          "output_type": "execute_result",
          "data": {
            "text/plain": [
              "<matplotlib.axes._subplots.AxesSubplot at 0x7f1177fed760>"
            ]
          },
          "metadata": {},
          "execution_count": 36
        },
        {
          "output_type": "display_data",
          "data": {
            "text/plain": [
              "<Figure size 432x288 with 1 Axes>"
            ],
            "image/png": "[encoded data removed]"
          },
          "metadata": {
            "needs_background": "light"
          }
        }
      ],
      "source": [
        "# Visualize the customer churn in relation to the online security variable.\n",
        "sns.countplot(x='OnlineSecurity', hue='Churn', palette='Set2', data=data)"
      ]
    },
    {
      "cell_type": "markdown",
      "id": "c8bd6ae8",
      "metadata": {
        "papermill": {
          "duration": 0.017611,
          "end_time": "2022-12-24T20:16:33.682553",
          "exception": false,
          "start_time": "2022-12-24T20:16:33.664942",
          "status": "completed"
        },
        "tags": [],
        "id": "c8bd6ae8"
      },
      "source": [
        "#### *Insight:* The majority of the customers that churned, did not have an online security."
      ]
    },
    {
      "cell_type": "code",
      "execution_count": 37,
      "id": "9498a9ff",
      "metadata": {
        "execution": {
          "iopub.execute_input": "2022-12-24T20:16:33.719832Z",
          "iopub.status.busy": "2022-12-24T20:16:33.719395Z",
          "iopub.status.idle": "2022-12-24T20:16:33.948236Z",
          "shell.execute_reply": "2022-12-24T20:16:33.947085Z"
        },
        "papermill": {
          "duration": 0.250413,
          "end_time": "2022-12-24T20:16:33.950704",
          "exception": false,
          "start_time": "2022-12-24T20:16:33.700291",
          "status": "completed"
        },
        "tags": [],
        "id": "9498a9ff",
        "outputId": "a457468c-83c5-41fe-83d7-bd434a279be3",
        "colab": {
          "base_uri": "https://localhost:8080/",
          "height": 296
        }
      },
      "outputs": [
        {
          "output_type": "execute_result",
          "data": {
            "text/plain": [
              "<matplotlib.axes._subplots.AxesSubplot at 0x7f1177e070d0>"
            ]
          },
          "metadata": {},
          "execution_count": 37
        },
        {
          "output_type": "display_data",
          "data": {
            "text/plain": [
              "<Figure size 432x288 with 1 Axes>"
            ],
            "image/png": "[encoded data removed]"
          },
          "metadata": {
            "needs_background": "light"
          }
        }
      ],
      "source": [
        "# Visualize the customer churn in relation to the phone service variable.\n",
        "sns.countplot(x='PhoneService', hue='Churn', palette='Set2', data=data)"
      ]
    },
    {
      "cell_type": "markdown",
      "id": "68bba823",
      "metadata": {
        "papermill": {
          "duration": 0.01778,
          "end_time": "2022-12-24T20:16:33.986869",
          "exception": false,
          "start_time": "2022-12-24T20:16:33.969089",
          "status": "completed"
        },
        "tags": [],
        "id": "68bba823"
      },
      "source": [
        "#### *Insight:* Most of the customers that get retained, already have a phone service with the company"
      ]
    },
    {
      "cell_type": "code",
      "execution_count": 38,
      "id": "a172781f",
      "metadata": {
        "execution": {
          "iopub.execute_input": "2022-12-24T20:16:34.025980Z",
          "iopub.status.busy": "2022-12-24T20:16:34.025563Z",
          "iopub.status.idle": "2022-12-24T20:16:34.261789Z",
          "shell.execute_reply": "2022-12-24T20:16:34.260557Z"
        },
        "papermill": {
          "duration": 0.258699,
          "end_time": "2022-12-24T20:16:34.264402",
          "exception": false,
          "start_time": "2022-12-24T20:16:34.005703",
          "status": "completed"
        },
        "tags": [],
        "id": "a172781f",
        "outputId": "41a96301-ce6c-4df5-fefb-e3bb4a8449cd",
        "colab": {
          "base_uri": "https://localhost:8080/",
          "height": 296
        }
      },
      "outputs": [
        {
          "output_type": "execute_result",
          "data": {
            "text/plain": [
              "<matplotlib.axes._subplots.AxesSubplot at 0x7f1177ddf400>"
            ]
          },
          "metadata": {},
          "execution_count": 38
        },
        {
          "output_type": "display_data",
          "data": {
            "text/plain": [
              "<Figure size 432x288 with 1 Axes>"
            ],
            "image/png": "[encoded data removed]"
          },
          "metadata": {
            "needs_background": "light"
          }
        }
      ],
      "source": [
        "# Visualize the customer churn in relation to the multiple lines variable.\n",
        "sns.countplot(x='MultipleLines', hue='Churn', palette='Set2', data=data)"
      ]
    },
    {
      "cell_type": "markdown",
      "id": "82444453",
      "metadata": {
        "papermill": {
          "duration": 0.018615,
          "end_time": "2022-12-24T20:16:34.301934",
          "exception": false,
          "start_time": "2022-12-24T20:16:34.283319",
          "status": "completed"
        },
        "tags": [],
        "id": "82444453"
      },
      "source": [
        "#### *Insight:* The multiple lines service does not appear to be a significant factor when it comes to customer churn."
      ]
    },
    {
      "cell_type": "code",
      "execution_count": 39,
      "id": "2ead96d5",
      "metadata": {
        "execution": {
          "iopub.execute_input": "2022-12-24T20:16:34.341856Z",
          "iopub.status.busy": "2022-12-24T20:16:34.340999Z",
          "iopub.status.idle": "2022-12-24T20:16:34.591711Z",
          "shell.execute_reply": "2022-12-24T20:16:34.590505Z"
        },
        "papermill": {
          "duration": 0.273705,
          "end_time": "2022-12-24T20:16:34.594147",
          "exception": false,
          "start_time": "2022-12-24T20:16:34.320442",
          "status": "completed"
        },
        "tags": [],
        "id": "2ead96d5",
        "outputId": "509782cc-3316-480b-e102-a5834941c04e",
        "colab": {
          "base_uri": "https://localhost:8080/",
          "height": 300
        }
      },
      "outputs": [
        {
          "output_type": "execute_result",
          "data": {
            "text/plain": [
              "<matplotlib.axes._subplots.AxesSubplot at 0x7f1177ddfbb0>"
            ]
          },
          "metadata": {},
          "execution_count": 39
        },
        {
          "output_type": "display_data",
          "data": {
            "text/plain": [
              "<Figure size 432x288 with 1 Axes>"
            ],
            "image/png": "[encoded data removed]"
          },
          "metadata": {
            "needs_background": "light"
          }
        }
      ],
      "source": [
        "# Visualize the customer churn in relation to the online backup variable.\n",
        "sns.countplot(x='OnlineBackup', hue='Churn', palette='Set2', data=data)"
      ]
    },
    {
      "cell_type": "markdown",
      "id": "11e9babc",
      "metadata": {
        "papermill": {
          "duration": 0.018665,
          "end_time": "2022-12-24T20:16:34.632053",
          "exception": false,
          "start_time": "2022-12-24T20:16:34.613388",
          "status": "completed"
        },
        "tags": [],
        "id": "11e9babc"
      },
      "source": [
        "#### *Insight:* The majority of the customers that left the company did not have an online backup service."
      ]
    },
    {
      "cell_type": "code",
      "execution_count": 40,
      "id": "e22fce44",
      "metadata": {
        "execution": {
          "iopub.execute_input": "2022-12-24T20:16:34.671877Z",
          "iopub.status.busy": "2022-12-24T20:16:34.671441Z",
          "iopub.status.idle": "2022-12-24T20:16:35.055072Z",
          "shell.execute_reply": "2022-12-24T20:16:35.053878Z"
        },
        "papermill": {
          "duration": 0.406918,
          "end_time": "2022-12-24T20:16:35.057889",
          "exception": false,
          "start_time": "2022-12-24T20:16:34.650971",
          "status": "completed"
        },
        "tags": [],
        "id": "e22fce44",
        "outputId": "426503af-85f8-4e4a-9b81-1b8bae3d3a6b",
        "colab": {
          "base_uri": "https://localhost:8080/",
          "height": 296
        }
      },
      "outputs": [
        {
          "output_type": "execute_result",
          "data": {
            "text/plain": [
              "<matplotlib.axes._subplots.AxesSubplot at 0x7f1177cb0dc0>"
            ]
          },
          "metadata": {},
          "execution_count": 40
        },
        {
          "output_type": "display_data",
          "data": {
            "text/plain": [
              "<Figure size 432x288 with 1 Axes>"
            ],
            "image/png": "[encoded data removed]"
          },
          "metadata": {
            "needs_background": "light"
          }
        }
      ],
      "source": [
        "# Visualize the customer churn in relation to the device protection variable.\n",
        "sns.countplot(x='DeviceProtection', hue='Churn', palette='Set2', data=data)"
      ]
    },
    {
      "cell_type": "markdown",
      "id": "69773121",
      "metadata": {
        "papermill": {
          "duration": 0.019338,
          "end_time": "2022-12-24T20:16:35.097648",
          "exception": false,
          "start_time": "2022-12-24T20:16:35.078310",
          "status": "completed"
        },
        "tags": [],
        "id": "69773121"
      },
      "source": [
        "#### *Insight:* Most of the churned customers did not have a device protection service."
      ]
    },
    {
      "cell_type": "code",
      "execution_count": 41,
      "id": "2d5037cf",
      "metadata": {
        "execution": {
          "iopub.execute_input": "2022-12-24T20:16:35.138158Z",
          "iopub.status.busy": "2022-12-24T20:16:35.137711Z",
          "iopub.status.idle": "2022-12-24T20:16:35.393189Z",
          "shell.execute_reply": "2022-12-24T20:16:35.391851Z"
        },
        "papermill": {
          "duration": 0.278808,
          "end_time": "2022-12-24T20:16:35.395658",
          "exception": false,
          "start_time": "2022-12-24T20:16:35.116850",
          "status": "completed"
        },
        "tags": [],
        "id": "2d5037cf",
        "outputId": "78de49e2-fe47-4f4e-bccd-a4709e25348c",
        "colab": {
          "base_uri": "https://localhost:8080/",
          "height": 296
        }
      },
      "outputs": [
        {
          "output_type": "execute_result",
          "data": {
            "text/plain": [
              "<matplotlib.axes._subplots.AxesSubplot at 0x7f11781279a0>"
            ]
          },
          "metadata": {},
          "execution_count": 41
        },
        {
          "output_type": "display_data",
          "data": {
            "text/plain": [
              "<Figure size 432x288 with 1 Axes>"
            ],
            "image/png": "[encoded data removed]"
          },
          "metadata": {
            "needs_background": "light"
          }
        }
      ],
      "source": [
        "# Visualize the customer churn in relation to the tech support service.\n",
        "sns.countplot(x='TechSupport', hue='Churn', palette='Set2', data=data)"
      ]
    },
    {
      "cell_type": "markdown",
      "id": "0722d7b0",
      "metadata": {
        "papermill": {
          "duration": 0.019651,
          "end_time": "2022-12-24T20:16:35.435535",
          "exception": false,
          "start_time": "2022-12-24T20:16:35.415884",
          "status": "completed"
        },
        "tags": [],
        "id": "0722d7b0"
      },
      "source": [
        "#### *Insight:* The majority of the customers that churned did not have a tech support service."
      ]
    },
    {
      "cell_type": "code",
      "execution_count": 42,
      "id": "388628b5",
      "metadata": {
        "execution": {
          "iopub.execute_input": "2022-12-24T20:16:35.478006Z",
          "iopub.status.busy": "2022-12-24T20:16:35.477113Z",
          "iopub.status.idle": "2022-12-24T20:16:35.728124Z",
          "shell.execute_reply": "2022-12-24T20:16:35.726917Z"
        },
        "papermill": {
          "duration": 0.275189,
          "end_time": "2022-12-24T20:16:35.731087",
          "exception": false,
          "start_time": "2022-12-24T20:16:35.455898",
          "status": "completed"
        },
        "tags": [],
        "id": "388628b5",
        "outputId": "e5cc738f-8551-43d7-c970-0ba6b245eaaf",
        "colab": {
          "base_uri": "https://localhost:8080/",
          "height": 296
        }
      },
      "outputs": [
        {
          "output_type": "execute_result",
          "data": {
            "text/plain": [
              "<matplotlib.axes._subplots.AxesSubplot at 0x7f1177de4ac0>"
            ]
          },
          "metadata": {},
          "execution_count": 42
        },
        {
          "output_type": "display_data",
          "data": {
            "text/plain": [
              "<Figure size 432x288 with 1 Axes>"
            ],
            "image/png": "[encoded data removed]"
          },
          "metadata": {
            "needs_background": "light"
          }
        }
      ],
      "source": [
        "# Visualize the customer churn in relation to the streamingTV service.\n",
        "sns.countplot(x='StreamingTV', hue='Churn', palette='Set2', data=data)"
      ]
    },
    {
      "cell_type": "markdown",
      "id": "f10d4d8c",
      "metadata": {
        "papermill": {
          "duration": 0.019945,
          "end_time": "2022-12-24T20:16:35.771168",
          "exception": false,
          "start_time": "2022-12-24T20:16:35.751223",
          "status": "completed"
        },
        "tags": [],
        "id": "f10d4d8c"
      },
      "source": [
        "#### *Insight:* The streaming tv service does not appear to be significant when it comes to customer churn."
      ]
    },
    {
      "cell_type": "code",
      "execution_count": 43,
      "id": "900a3db9",
      "metadata": {
        "execution": {
          "iopub.execute_input": "2022-12-24T20:16:35.814051Z",
          "iopub.status.busy": "2022-12-24T20:16:35.813374Z",
          "iopub.status.idle": "2022-12-24T20:16:36.064440Z",
          "shell.execute_reply": "2022-12-24T20:16:36.063049Z"
        },
        "papermill": {
          "duration": 0.275464,
          "end_time": "2022-12-24T20:16:36.066879",
          "exception": false,
          "start_time": "2022-12-24T20:16:35.791415",
          "status": "completed"
        },
        "tags": [],
        "id": "900a3db9",
        "outputId": "e2823e13-25ae-4134-f1ab-ba1234ea0f63",
        "colab": {
          "base_uri": "https://localhost:8080/",
          "height": 299
        }
      },
      "outputs": [
        {
          "output_type": "execute_result",
          "data": {
            "text/plain": [
              "<matplotlib.axes._subplots.AxesSubplot at 0x7f1177c29d00>"
            ]
          },
          "metadata": {},
          "execution_count": 43
        },
        {
          "output_type": "display_data",
          "data": {
            "text/plain": [
              "<Figure size 432x288 with 1 Axes>"
            ],
            "image/png": "[encoded data removed]"
          },
          "metadata": {
            "needs_background": "light"
          }
        }
      ],
      "source": [
        "# Visualize the customer churn in relation to the streamingMovies service.\n",
        "sns.countplot(x='StreamingMovies', hue='Churn', palette='Set2', data=data)"
      ]
    },
    {
      "cell_type": "markdown",
      "id": "bd910083",
      "metadata": {
        "papermill": {
          "duration": 0.020301,
          "end_time": "2022-12-24T20:16:36.108779",
          "exception": false,
          "start_time": "2022-12-24T20:16:36.088478",
          "status": "completed"
        },
        "tags": [],
        "id": "bd910083"
      },
      "source": [
        "#### *Insight:* The streaming movies service does not appear to be a significant factor for customer churn."
      ]
    },
    {
      "cell_type": "markdown",
      "id": "142081c5",
      "metadata": {
        "papermill": {
          "duration": 0.020159,
          "end_time": "2022-12-24T20:16:36.149495",
          "exception": false,
          "start_time": "2022-12-24T20:16:36.129336",
          "status": "completed"
        },
        "tags": [],
        "id": "142081c5"
      },
      "source": [
        "# Data Processing & Cleaning"
      ]
    },
    {
      "cell_type": "code",
      "execution_count": 44,
      "id": "57a90834",
      "metadata": {
        "execution": {
          "iopub.execute_input": "2022-12-24T20:16:36.192394Z",
          "iopub.status.busy": "2022-12-24T20:16:36.192008Z",
          "iopub.status.idle": "2022-12-24T20:16:36.223174Z",
          "shell.execute_reply": "2022-12-24T20:16:36.222284Z"
        },
        "papermill": {
          "duration": 0.055372,
          "end_time": "2022-12-24T20:16:36.225261",
          "exception": false,
          "start_time": "2022-12-24T20:16:36.169889",
          "status": "completed"
        },
        "tags": [],
        "id": "57a90834",
        "outputId": "87e644c1-fa96-4190-cf63-655a5f9ec94a",
        "colab": {
          "base_uri": "https://localhost:8080/",
          "height": 607
        }
      },
      "outputs": [
        {
          "output_type": "execute_result",
          "data": {
            "text/plain": [
              "      gender  SeniorCitizen Partner Dependents  tenure PhoneService  \\\n",
              "0     Female              0     Yes         No       1           No   \n",
              "1       Male              0      No         No      34          Yes   \n",
              "2       Male              0      No         No       2          Yes   \n",
              "3       Male              0      No         No      45           No   \n",
              "4     Female              0      No         No       2          Yes   \n",
              "...      ...            ...     ...        ...     ...          ...   \n",
              "7038    Male              0     Yes        Yes      24          Yes   \n",
              "7039  Female              0     Yes        Yes      72          Yes   \n",
              "7040  Female              0     Yes        Yes      11           No   \n",
              "7041    Male              1     Yes         No       4          Yes   \n",
              "7042    Male              0      No         No      66          Yes   \n",
              "\n",
              "         MultipleLines InternetService OnlineSecurity OnlineBackup  \\\n",
              "0     No phone service             DSL             No          Yes   \n",
              "1                   No             DSL            Yes           No   \n",
              "2                   No             DSL            Yes          Yes   \n",
              "3     No phone service             DSL            Yes           No   \n",
              "4                   No     Fiber optic             No           No   \n",
              "...                ...             ...            ...          ...   \n",
              "7038               Yes             DSL            Yes           No   \n",
              "7039               Yes     Fiber optic             No          Yes   \n",
              "7040  No phone service             DSL            Yes           No   \n",
              "7041               Yes     Fiber optic             No           No   \n",
              "7042                No     Fiber optic            Yes           No   \n",
              "\n",
              "     DeviceProtection TechSupport StreamingTV StreamingMovies        Contract  \\\n",
              "0                  No          No          No              No  Month-to-month   \n",
              "1                 Yes          No          No              No        One year   \n",
              "2                  No          No          No              No  Month-to-month   \n",
              "3                 Yes         Yes          No              No        One year   \n",
              "4                  No          No          No              No  Month-to-month   \n",
              "...               ...         ...         ...             ...             ...   \n",
              "7038              Yes         Yes         Yes             Yes        One year   \n",
              "7039              Yes          No         Yes             Yes        One year   \n",
              "7040               No          No          No              No  Month-to-month   \n",
              "7041               No          No          No              No  Month-to-month   \n",
              "7042              Yes         Yes         Yes             Yes        Two year   \n",
              "\n",
              "     PaperlessBilling              PaymentMethod  MonthlyCharges TotalCharges  \\\n",
              "0                 Yes           Electronic check           29.85        29.85   \n",
              "1                  No               Mailed check           56.95       1889.5   \n",
              "2                 Yes               Mailed check           53.85       108.15   \n",
              "3                  No  Bank transfer (automatic)           42.30      1840.75   \n",
              "4                 Yes           Electronic check           70.70       151.65   \n",
              "...               ...                        ...             ...          ...   \n",
              "7038              Yes               Mailed check           84.80       1990.5   \n",
              "7039              Yes    Credit card (automatic)          103.20       7362.9   \n",
              "7040              Yes           Electronic check           29.60       346.45   \n",
              "7041              Yes               Mailed check           74.40        306.6   \n",
              "7042              Yes  Bank transfer (automatic)          105.65       6844.5   \n",
              "\n",
              "     Churn  \n",
              "0       No  \n",
              "1       No  \n",
              "2      Yes  \n",
              "3       No  \n",
              "4      Yes  \n",
              "...    ...  \n",
              "7038    No  \n",
              "7039    No  \n",
              "7040    No  \n",
              "7041   Yes  \n",
              "7042    No  \n",
              "\n",
              "[7043 rows x 20 columns]"
            ],
            "text/html": [
              "\n",
              "  <div id=\"df-045f285e-4772-4e83-8865-a8e0721a3af4\">\n",
              "    <div class=\"colab-df-container\">\n",
              "      <div>\n",
              "<style scoped>\n",
              "    .dataframe tbody tr th:only-of-type {\n",
              "        vertical-align: middle;\n",
              "    }\n",
              "\n",
              "    .dataframe tbody tr th {\n",
              "        vertical-align: top;\n",
              "    }\n",
              "\n",
              "    .dataframe thead th {\n",
              "        text-align: right;\n",
              "    }\n",
              "</style>\n",
              "<table border=\"1\" class=\"dataframe\">\n",
              "  <thead>\n",
              "    <tr style=\"text-align: right;\">\n",
              "      <th></th>\n",
              "      <th>gender</th>\n",
              "      <th>SeniorCitizen</th>\n",
              "      <th>Partner</th>\n",
              "      <th>Dependents</th>\n",
              "      <th>tenure</th>\n",
              "      <th>PhoneService</th>\n",
              "      <th>MultipleLines</th>\n",
              "      <th>InternetService</th>\n",
              "      <th>OnlineSecurity</th>\n",
              "      <th>OnlineBackup</th>\n",
              "      <th>DeviceProtection</th>\n",
              "      <th>TechSupport</th>\n",
              "      <th>StreamingTV</th>\n",
              "      <th>StreamingMovies</th>\n",
              "      <th>Contract</th>\n",
              "      <th>PaperlessBilling</th>\n",
              "      <th>PaymentMethod</th>\n",
              "      <th>MonthlyCharges</th>\n",
              "      <th>TotalCharges</th>\n",
              "      <th>Churn</th>\n",
              "    </tr>\n",
              "  </thead>\n",
              "  <tbody>\n",
              "    <tr>\n",
              "      <th>0</th>\n",
              "      <td>Female</td>\n",
              "      <td>0</td>\n",
              "      <td>Yes</td>\n",
              "      <td>No</td>\n",
              "      <td>1</td>\n",
              "      <td>No</td>\n",
              "      <td>No phone service</td>\n",
              "      <td>DSL</td>\n",
              "      <td>No</td>\n",
              "      <td>Yes</td>\n",
              "      <td>No</td>\n",
              "      <td>No</td>\n",
              "      <td>No</td>\n",
              "      <td>No</td>\n",
              "      <td>Month-to-month</td>\n",
              "      <td>Yes</td>\n",
              "      <td>Electronic check</td>\n",
              "      <td>29.85</td>\n",
              "      <td>29.85</td>\n",
              "      <td>No</td>\n",
              "    </tr>\n",
              "    <tr>\n",
              "      <th>1</th>\n",
              "      <td>Male</td>\n",
              "      <td>0</td>\n",
              "      <td>No</td>\n",
              "      <td>No</td>\n",
              "      <td>34</td>\n",
              "      <td>Yes</td>\n",
              "      <td>No</td>\n",
              "      <td>DSL</td>\n",
              "      <td>Yes</td>\n",
              "      <td>No</td>\n",
              "      <td>Yes</td>\n",
              "      <td>No</td>\n",
              "      <td>No</td>\n",
              "      <td>No</td>\n",
              "      <td>One year</td>\n",
              "      <td>No</td>\n",
              "      <td>Mailed check</td>\n",
              "      <td>56.95</td>\n",
              "      <td>1889.5</td>\n",
              "      <td>No</td>\n",
              "    </tr>\n",
              "    <tr>\n",
              "      <th>2</th>\n",
              "      <td>Male</td>\n",
              "      <td>0</td>\n",
              "      <td>No</td>\n",
              "      <td>No</td>\n",
              "      <td>2</td>\n",
              "      <td>Yes</td>\n",
              "      <td>No</td>\n",
              "      <td>DSL</td>\n",
              "      <td>Yes</td>\n",
              "      <td>Yes</td>\n",
              "      <td>No</td>\n",
              "      <td>No</td>\n",
              "      <td>No</td>\n",
              "      <td>No</td>\n",
              "      <td>Month-to-month</td>\n",
              "      <td>Yes</td>\n",
              "      <td>Mailed check</td>\n",
              "      <td>53.85</td>\n",
              "      <td>108.15</td>\n",
              "      <td>Yes</td>\n",
              "    </tr>\n",
              "    <tr>\n",
              "      <th>3</th>\n",
              "      <td>Male</td>\n",
              "      <td>0</td>\n",
              "      <td>No</td>\n",
              "      <td>No</td>\n",
              "      <td>45</td>\n",
              "      <td>No</td>\n",
              "      <td>No phone service</td>\n",
              "      <td>DSL</td>\n",
              "      <td>Yes</td>\n",
              "      <td>No</td>\n",
              "      <td>Yes</td>\n",
              "      <td>Yes</td>\n",
              "      <td>No</td>\n",
              "      <td>No</td>\n",
              "      <td>One year</td>\n",
              "      <td>No</td>\n",
              "      <td>Bank transfer (automatic)</td>\n",
              "      <td>42.30</td>\n",
              "      <td>1840.75</td>\n",
              "      <td>No</td>\n",
              "    </tr>\n",
              "    <tr>\n",
              "      <th>4</th>\n",
              "      <td>Female</td>\n",
              "      <td>0</td>\n",
              "      <td>No</td>\n",
              "      <td>No</td>\n",
              "      <td>2</td>\n",
              "      <td>Yes</td>\n",
              "      <td>No</td>\n",
              "      <td>Fiber optic</td>\n",
              "      <td>No</td>\n",
              "      <td>No</td>\n",
              "      <td>No</td>\n",
              "      <td>No</td>\n",
              "      <td>No</td>\n",
              "      <td>No</td>\n",
              "      <td>Month-to-month</td>\n",
              "      <td>Yes</td>\n",
              "      <td>Electronic check</td>\n",
              "      <td>70.70</td>\n",
              "      <td>151.65</td>\n",
              "      <td>Yes</td>\n",
              "    </tr>\n",
              "    <tr>\n",
              "      <th>...</th>\n",
              "      <td>...</td>\n",
              "      <td>...</td>\n",
              "      <td>...</td>\n",
              "      <td>...</td>\n",
              "      <td>...</td>\n",
              "      <td>...</td>\n",
              "      <td>...</td>\n",
              "      <td>...</td>\n",
              "      <td>...</td>\n",
              "      <td>...</td>\n",
              "      <td>...</td>\n",
              "      <td>...</td>\n",
              "      <td>...</td>\n",
              "      <td>...</td>\n",
              "      <td>...</td>\n",
              "      <td>...</td>\n",
              "      <td>...</td>\n",
              "      <td>...</td>\n",
              "      <td>...</td>\n",
              "      <td>...</td>\n",
              "    </tr>\n",
              "    <tr>\n",
              "      <th>7038</th>\n",
              "      <td>Male</td>\n",
              "      <td>0</td>\n",
              "      <td>Yes</td>\n",
              "      <td>Yes</td>\n",
              "      <td>24</td>\n",
              "      <td>Yes</td>\n",
              "      <td>Yes</td>\n",
              "      <td>DSL</td>\n",
              "      <td>Yes</td>\n",
              "      <td>No</td>\n",
              "      <td>Yes</td>\n",
              "      <td>Yes</td>\n",
              "      <td>Yes</td>\n",
              "      <td>Yes</td>\n",
              "      <td>One year</td>\n",
              "      <td>Yes</td>\n",
              "      <td>Mailed check</td>\n",
              "      <td>84.80</td>\n",
              "      <td>1990.5</td>\n",
              "      <td>No</td>\n",
              "    </tr>\n",
              "    <tr>\n",
              "      <th>7039</th>\n",
              "      <td>Female</td>\n",
              "      <td>0</td>\n",
              "      <td>Yes</td>\n",
              "      <td>Yes</td>\n",
              "      <td>72</td>\n",
              "      <td>Yes</td>\n",
              "      <td>Yes</td>\n",
              "      <td>Fiber optic</td>\n",
              "      <td>No</td>\n",
              "      <td>Yes</td>\n",
              "      <td>Yes</td>\n",
              "      <td>No</td>\n",
              "      <td>Yes</td>\n",
              "      <td>Yes</td>\n",
              "      <td>One year</td>\n",
              "      <td>Yes</td>\n",
              "      <td>Credit card (automatic)</td>\n",
              "      <td>103.20</td>\n",
              "      <td>7362.9</td>\n",
              "      <td>No</td>\n",
              "    </tr>\n",
              "    <tr>\n",
              "      <th>7040</th>\n",
              "      <td>Female</td>\n",
              "      <td>0</td>\n",
              "      <td>Yes</td>\n",
              "      <td>Yes</td>\n",
              "      <td>11</td>\n",
              "      <td>No</td>\n",
              "      <td>No phone service</td>\n",
              "      <td>DSL</td>\n",
              "      <td>Yes</td>\n",
              "      <td>No</td>\n",
              "      <td>No</td>\n",
              "      <td>No</td>\n",
              "      <td>No</td>\n",
              "      <td>No</td>\n",
              "      <td>Month-to-month</td>\n",
              "      <td>Yes</td>\n",
              "      <td>Electronic check</td>\n",
              "      <td>29.60</td>\n",
              "      <td>346.45</td>\n",
              "      <td>No</td>\n",
              "    </tr>\n",
              "    <tr>\n",
              "      <th>7041</th>\n",
              "      <td>Male</td>\n",
              "      <td>1</td>\n",
              "      <td>Yes</td>\n",
              "      <td>No</td>\n",
              "      <td>4</td>\n",
              "      <td>Yes</td>\n",
              "      <td>Yes</td>\n",
              "      <td>Fiber optic</td>\n",
              "      <td>No</td>\n",
              "      <td>No</td>\n",
              "      <td>No</td>\n",
              "      <td>No</td>\n",
              "      <td>No</td>\n",
              "      <td>No</td>\n",
              "      <td>Month-to-month</td>\n",
              "      <td>Yes</td>\n",
              "      <td>Mailed check</td>\n",
              "      <td>74.40</td>\n",
              "      <td>306.6</td>\n",
              "      <td>Yes</td>\n",
              "    </tr>\n",
              "    <tr>\n",
              "      <th>7042</th>\n",
              "      <td>Male</td>\n",
              "      <td>0</td>\n",
              "      <td>No</td>\n",
              "      <td>No</td>\n",
              "      <td>66</td>\n",
              "      <td>Yes</td>\n",
              "      <td>No</td>\n",
              "      <td>Fiber optic</td>\n",
              "      <td>Yes</td>\n",
              "      <td>No</td>\n",
              "      <td>Yes</td>\n",
              "      <td>Yes</td>\n",
              "      <td>Yes</td>\n",
              "      <td>Yes</td>\n",
              "      <td>Two year</td>\n",
              "      <td>Yes</td>\n",
              "      <td>Bank transfer (automatic)</td>\n",
              "      <td>105.65</td>\n",
              "      <td>6844.5</td>\n",
              "      <td>No</td>\n",
              "    </tr>\n",
              "  </tbody>\n",
              "</table>\n",
              "<p>7043 rows × 20 columns</p>\n",
              "</div>\n",
              "      <button class=\"colab-df-convert\" onclick=\"convertToInteractive('df-045f285e-4772-4e83-8865-a8e0721a3af4')\"\n",
              "              title=\"Convert this dataframe to an interactive table.\"\n",
              "              style=\"display:none;\">\n",
              "        \n",
              "  <svg xmlns=\"http://www.w3.org/2000/svg\" height=\"24px\"viewBox=\"0 0 24 24\"\n",
              "       width=\"24px\">\n",
              "    <path d=\"M0 0h24v24H0V0z\" fill=\"none\"/>\n",
              "    <path d=\"M18.56 5.44l.94 2.06.94-2.06 2.06-.94-2.06-.94-.94-2.06-.94 2.06-2.06.94zm-11 1L8.5 8.5l.94-2.06 2.06-.94-2.06-.94L8.5 2.5l-.94 2.06-2.06.94zm10 10l.94 2.06.94-2.06 2.06-.94-2.06-.94-.94-2.06-.94 2.06-2.06.94z\"/><path d=\"M17.41 7.96l-1.37-1.37c-.4-.4-.92-.59-1.43-.59-.52 0-1.04.2-1.43.59L10.3 9.45l-7.72 7.72c-.78.78-.78 2.05 0 2.83L4 21.41c.39.39.9.59 1.41.59.51 0 1.02-.2 1.41-.59l7.78-7.78 2.81-2.81c.8-.78.8-2.07 0-2.86zM5.41 20L4 18.59l7.72-7.72 1.47 1.35L5.41 20z\"/>\n",
              "  </svg>\n",
              "      </button>\n",
              "      \n",
              "  <style>\n",
              "    .colab-df-container {\n",
              "      display:flex;\n",
              "      flex-wrap:wrap;\n",
              "      gap: 12px;\n",
              "    }\n",
              "\n",
              "    .colab-df-convert {\n",
              "      background-color: #E8F0FE;\n",
              "      border: none;\n",
              "      border-radius: 50%;\n",
              "      cursor: pointer;\n",
              "      display: none;\n",
              "      fill: #1967D2;\n",
              "      height: 32px;\n",
              "      padding: 0 0 0 0;\n",
              "      width: 32px;\n",
              "    }\n",
              "\n",
              "    .colab-df-convert:hover {\n",
              "      background-color: #E2EBFA;\n",
              "      box-shadow: 0px 1px 2px rgba(60, 64, 67, 0.3), 0px 1px 3px 1px rgba(60, 64, 67, 0.15);\n",
              "      fill: #174EA6;\n",
              "    }\n",
              "\n",
              "    [theme=dark] .colab-df-convert {\n",
              "      background-color: #3B4455;\n",
              "      fill: #D2E3FC;\n",
              "    }\n",
              "\n",
              "    [theme=dark] .colab-df-convert:hover {\n",
              "      background-color: #434B5C;\n",
              "      box-shadow: 0px 1px 3px 1px rgba(0, 0, 0, 0.15);\n",
              "      filter: drop-shadow(0px 1px 2px rgba(0, 0, 0, 0.3));\n",
              "      fill: #FFFFFF;\n",
              "    }\n",
              "  </style>\n",
              "\n",
              "      <script>\n",
              "        const buttonEl =\n",
              "          document.querySelector('#df-045f285e-4772-4e83-8865-a8e0721a3af4 button.colab-df-convert');\n",
              "        buttonEl.style.display =\n",
              "          google.colab.kernel.accessAllowed ? 'block' : 'none';\n",
              "\n",
              "        async function convertToInteractive(key) {\n",
              "          const element = document.querySelector('#df-045f285e-4772-4e83-8865-a8e0721a3af4');\n",
              "          const dataTable =\n",
              "            await google.colab.kernel.invokeFunction('convertToInteractive',\n",
              "                                                     [key], {});\n",
              "          if (!dataTable) return;\n",
              "\n",
              "          const docLinkHtml = 'Like what you see? Visit the ' +\n",
              "            '<a target=\"_blank\" href=https://colab.research.google.com/notebooks/data_table.ipynb>data table notebook</a>'\n",
              "            + ' to learn more about interactive tables.';\n",
              "          element.innerHTML = '';\n",
              "          dataTable['output_type'] = 'display_data';\n",
              "          await google.colab.output.renderOutput(dataTable, element);\n",
              "          const docLink = document.createElement('div');\n",
              "          docLink.innerHTML = docLinkHtml;\n",
              "          element.appendChild(docLink);\n",
              "        }\n",
              "      </script>\n",
              "    </div>\n",
              "  </div>\n",
              "  "
            ]
          },
          "metadata": {},
          "execution_count": 44
        }
      ],
      "source": [
        "# Drop the column customerID, since it is not necessary for our analysis.\n",
        "cleaned_data=data.drop('customerID', axis=1)\n",
        "cleaned_data"
      ]
    },
    {
      "cell_type": "code",
      "execution_count": 45,
      "id": "326172e5",
      "metadata": {
        "execution": {
          "iopub.execute_input": "2022-12-24T20:16:36.271212Z",
          "iopub.status.busy": "2022-12-24T20:16:36.270055Z",
          "iopub.status.idle": "2022-12-24T20:16:36.277830Z",
          "shell.execute_reply": "2022-12-24T20:16:36.276724Z"
        },
        "papermill": {
          "duration": 0.034342,
          "end_time": "2022-12-24T20:16:36.281171",
          "exception": false,
          "start_time": "2022-12-24T20:16:36.246829",
          "status": "completed"
        },
        "tags": [],
        "id": "326172e5",
        "outputId": "1dc15229-8d65-466e-886e-e377ef4a4547",
        "colab": {
          "base_uri": "https://localhost:8080/"
        }
      },
      "outputs": [
        {
          "output_type": "stream",
          "name": "stderr",
          "text": [
            "<ipython-input-45-53a4be926b14>:3: DeprecationWarning: Converting `np.inexact` or `np.floating` to a dtype is deprecated. The current result is `float64` which is not strictly correct.\n",
            "  if cleaned_data[column].dtype == np.number:\n"
          ]
        }
      ],
      "source": [
        "# We convert the non-numerical variables to numerical.\n",
        "for column in cleaned_data.columns:\n",
        "    if cleaned_data[column].dtype == np.number:\n",
        "        continue\n",
        "        cleaned_data[column] = LabelEncoder().fit_transform(cleaned_data[column])"
      ]
    },
    {
      "cell_type": "code",
      "execution_count": 46,
      "id": "5c6ac412",
      "metadata": {
        "execution": {
          "iopub.execute_input": "2022-12-24T20:16:36.328500Z",
          "iopub.status.busy": "2022-12-24T20:16:36.327617Z",
          "iopub.status.idle": "2022-12-24T20:16:36.334752Z",
          "shell.execute_reply": "2022-12-24T20:16:36.333998Z"
        },
        "papermill": {
          "duration": 0.032675,
          "end_time": "2022-12-24T20:16:36.336834",
          "exception": false,
          "start_time": "2022-12-24T20:16:36.304159",
          "status": "completed"
        },
        "tags": [],
        "id": "5c6ac412",
        "outputId": "b6e59f35-eb0e-452f-8ddb-6be5c56f7836",
        "colab": {
          "base_uri": "https://localhost:8080/"
        }
      },
      "outputs": [
        {
          "output_type": "execute_result",
          "data": {
            "text/plain": [
              "gender               object\n",
              "SeniorCitizen         int64\n",
              "Partner              object\n",
              "Dependents           object\n",
              "tenure                int64\n",
              "PhoneService         object\n",
              "MultipleLines        object\n",
              "InternetService      object\n",
              "OnlineSecurity       object\n",
              "OnlineBackup         object\n",
              "DeviceProtection     object\n",
              "TechSupport          object\n",
              "StreamingTV          object\n",
              "StreamingMovies      object\n",
              "Contract             object\n",
              "PaperlessBilling     object\n",
              "PaymentMethod        object\n",
              "MonthlyCharges      float64\n",
              "TotalCharges         object\n",
              "Churn                object\n",
              "dtype: object"
            ]
          },
          "metadata": {},
          "execution_count": 46
        }
      ],
      "source": [
        "# We check the new data types to make sure that they are numerical.\n",
        "cleaned_data.dtypes"
      ]
    },
    {
      "cell_type": "code",
      "execution_count": 47,
      "id": "3675a517",
      "metadata": {
        "execution": {
          "iopub.execute_input": "2022-12-24T20:16:36.382753Z",
          "iopub.status.busy": "2022-12-24T20:16:36.382346Z",
          "iopub.status.idle": "2022-12-24T20:16:36.405502Z",
          "shell.execute_reply": "2022-12-24T20:16:36.404390Z"
        },
        "papermill": {
          "duration": 0.049392,
          "end_time": "2022-12-24T20:16:36.408040",
          "exception": false,
          "start_time": "2022-12-24T20:16:36.358648",
          "status": "completed"
        },
        "tags": [],
        "id": "3675a517",
        "outputId": "38194a88-0063-4244-fe13-304822986563",
        "colab": {
          "base_uri": "https://localhost:8080/",
          "height": 320
        }
      },
      "outputs": [
        {
          "output_type": "execute_result",
          "data": {
            "text/plain": [
              "   gender  SeniorCitizen Partner Dependents  tenure PhoneService  \\\n",
              "0  Female              0     Yes         No       1           No   \n",
              "1    Male              0      No         No      34          Yes   \n",
              "2    Male              0      No         No       2          Yes   \n",
              "3    Male              0      No         No      45           No   \n",
              "4  Female              0      No         No       2          Yes   \n",
              "\n",
              "      MultipleLines InternetService OnlineSecurity OnlineBackup  \\\n",
              "0  No phone service             DSL             No          Yes   \n",
              "1                No             DSL            Yes           No   \n",
              "2                No             DSL            Yes          Yes   \n",
              "3  No phone service             DSL            Yes           No   \n",
              "4                No     Fiber optic             No           No   \n",
              "\n",
              "  DeviceProtection TechSupport StreamingTV StreamingMovies        Contract  \\\n",
              "0               No          No          No              No  Month-to-month   \n",
              "1              Yes          No          No              No        One year   \n",
              "2               No          No          No              No  Month-to-month   \n",
              "3              Yes         Yes          No              No        One year   \n",
              "4               No          No          No              No  Month-to-month   \n",
              "\n",
              "  PaperlessBilling              PaymentMethod  MonthlyCharges TotalCharges  \\\n",
              "0              Yes           Electronic check           29.85        29.85   \n",
              "1               No               Mailed check           56.95       1889.5   \n",
              "2              Yes               Mailed check           53.85       108.15   \n",
              "3               No  Bank transfer (automatic)           42.30      1840.75   \n",
              "4              Yes           Electronic check           70.70       151.65   \n",
              "\n",
              "  Churn  \n",
              "0    No  \n",
              "1    No  \n",
              "2   Yes  \n",
              "3    No  \n",
              "4   Yes  "
            ],
            "text/html": [
              "\n",
              "  <div id=\"df-e1c3539f-5405-4972-8d19-dcc9efcc40a1\">\n",
              "    <div class=\"colab-df-container\">\n",
              "      <div>\n",
              "<style scoped>\n",
              "    .dataframe tbody tr th:only-of-type {\n",
              "        vertical-align: middle;\n",
              "    }\n",
              "\n",
              "    .dataframe tbody tr th {\n",
              "        vertical-align: top;\n",
              "    }\n",
              "\n",
              "    .dataframe thead th {\n",
              "        text-align: right;\n",
              "    }\n",
              "</style>\n",
              "<table border=\"1\" class=\"dataframe\">\n",
              "  <thead>\n",
              "    <tr style=\"text-align: right;\">\n",
              "      <th></th>\n",
              "      <th>gender</th>\n",
              "      <th>SeniorCitizen</th>\n",
              "      <th>Partner</th>\n",
              "      <th>Dependents</th>\n",
              "      <th>tenure</th>\n",
              "      <th>PhoneService</th>\n",
              "      <th>MultipleLines</th>\n",
              "      <th>InternetService</th>\n",
              "      <th>OnlineSecurity</th>\n",
              "      <th>OnlineBackup</th>\n",
              "      <th>DeviceProtection</th>\n",
              "      <th>TechSupport</th>\n",
              "      <th>StreamingTV</th>\n",
              "      <th>StreamingMovies</th>\n",
              "      <th>Contract</th>\n",
              "      <th>PaperlessBilling</th>\n",
              "      <th>PaymentMethod</th>\n",
              "      <th>MonthlyCharges</th>\n",
              "      <th>TotalCharges</th>\n",
              "      <th>Churn</th>\n",
              "    </tr>\n",
              "  </thead>\n",
              "  <tbody>\n",
              "    <tr>\n",
              "      <th>0</th>\n",
              "      <td>Female</td>\n",
              "      <td>0</td>\n",
              "      <td>Yes</td>\n",
              "      <td>No</td>\n",
              "      <td>1</td>\n",
              "      <td>No</td>\n",
              "      <td>No phone service</td>\n",
              "      <td>DSL</td>\n",
              "      <td>No</td>\n",
              "      <td>Yes</td>\n",
              "      <td>No</td>\n",
              "      <td>No</td>\n",
              "      <td>No</td>\n",
              "      <td>No</td>\n",
              "      <td>Month-to-month</td>\n",
              "      <td>Yes</td>\n",
              "      <td>Electronic check</td>\n",
              "      <td>29.85</td>\n",
              "      <td>29.85</td>\n",
              "      <td>No</td>\n",
              "    </tr>\n",
              "    <tr>\n",
              "      <th>1</th>\n",
              "      <td>Male</td>\n",
              "      <td>0</td>\n",
              "      <td>No</td>\n",
              "      <td>No</td>\n",
              "      <td>34</td>\n",
              "      <td>Yes</td>\n",
              "      <td>No</td>\n",
              "      <td>DSL</td>\n",
              "      <td>Yes</td>\n",
              "      <td>No</td>\n",
              "      <td>Yes</td>\n",
              "      <td>No</td>\n",
              "      <td>No</td>\n",
              "      <td>No</td>\n",
              "      <td>One year</td>\n",
              "      <td>No</td>\n",
              "      <td>Mailed check</td>\n",
              "      <td>56.95</td>\n",
              "      <td>1889.5</td>\n",
              "      <td>No</td>\n",
              "    </tr>\n",
              "    <tr>\n",
              "      <th>2</th>\n",
              "      <td>Male</td>\n",
              "      <td>0</td>\n",
              "      <td>No</td>\n",
              "      <td>No</td>\n",
              "      <td>2</td>\n",
              "      <td>Yes</td>\n",
              "      <td>No</td>\n",
              "      <td>DSL</td>\n",
              "      <td>Yes</td>\n",
              "      <td>Yes</td>\n",
              "      <td>No</td>\n",
              "      <td>No</td>\n",
              "      <td>No</td>\n",
              "      <td>No</td>\n",
              "      <td>Month-to-month</td>\n",
              "      <td>Yes</td>\n",
              "      <td>Mailed check</td>\n",
              "      <td>53.85</td>\n",
              "      <td>108.15</td>\n",
              "      <td>Yes</td>\n",
              "    </tr>\n",
              "    <tr>\n",
              "      <th>3</th>\n",
              "      <td>Male</td>\n",
              "      <td>0</td>\n",
              "      <td>No</td>\n",
              "      <td>No</td>\n",
              "      <td>45</td>\n",
              "      <td>No</td>\n",
              "      <td>No phone service</td>\n",
              "      <td>DSL</td>\n",
              "      <td>Yes</td>\n",
              "      <td>No</td>\n",
              "      <td>Yes</td>\n",
              "      <td>Yes</td>\n",
              "      <td>No</td>\n",
              "      <td>No</td>\n",
              "      <td>One year</td>\n",
              "      <td>No</td>\n",
              "      <td>Bank transfer (automatic)</td>\n",
              "      <td>42.30</td>\n",
              "      <td>1840.75</td>\n",
              "      <td>No</td>\n",
              "    </tr>\n",
              "    <tr>\n",
              "      <th>4</th>\n",
              "      <td>Female</td>\n",
              "      <td>0</td>\n",
              "      <td>No</td>\n",
              "      <td>No</td>\n",
              "      <td>2</td>\n",
              "      <td>Yes</td>\n",
              "      <td>No</td>\n",
              "      <td>Fiber optic</td>\n",
              "      <td>No</td>\n",
              "      <td>No</td>\n",
              "      <td>No</td>\n",
              "      <td>No</td>\n",
              "      <td>No</td>\n",
              "      <td>No</td>\n",
              "      <td>Month-to-month</td>\n",
              "      <td>Yes</td>\n",
              "      <td>Electronic check</td>\n",
              "      <td>70.70</td>\n",
              "      <td>151.65</td>\n",
              "      <td>Yes</td>\n",
              "    </tr>\n",
              "  </tbody>\n",
              "</table>\n",
              "</div>\n",
              "      <button class=\"colab-df-convert\" onclick=\"convertToInteractive('df-e1c3539f-5405-4972-8d19-dcc9efcc40a1')\"\n",
              "              title=\"Convert this dataframe to an interactive table.\"\n",
              "              style=\"display:none;\">\n",
              "        \n",
              "  <svg xmlns=\"http://www.w3.org/2000/svg\" height=\"24px\"viewBox=\"0 0 24 24\"\n",
              "       width=\"24px\">\n",
              "    <path d=\"M0 0h24v24H0V0z\" fill=\"none\"/>\n",
              "    <path d=\"M18.56 5.44l.94 2.06.94-2.06 2.06-.94-2.06-.94-.94-2.06-.94 2.06-2.06.94zm-11 1L8.5 8.5l.94-2.06 2.06-.94-2.06-.94L8.5 2.5l-.94 2.06-2.06.94zm10 10l.94 2.06.94-2.06 2.06-.94-2.06-.94-.94-2.06-.94 2.06-2.06.94z\"/><path d=\"M17.41 7.96l-1.37-1.37c-.4-.4-.92-.59-1.43-.59-.52 0-1.04.2-1.43.59L10.3 9.45l-7.72 7.72c-.78.78-.78 2.05 0 2.83L4 21.41c.39.39.9.59 1.41.59.51 0 1.02-.2 1.41-.59l7.78-7.78 2.81-2.81c.8-.78.8-2.07 0-2.86zM5.41 20L4 18.59l7.72-7.72 1.47 1.35L5.41 20z\"/>\n",
              "  </svg>\n",
              "      </button>\n",
              "      \n",
              "  <style>\n",
              "    .colab-df-container {\n",
              "      display:flex;\n",
              "      flex-wrap:wrap;\n",
              "      gap: 12px;\n",
              "    }\n",
              "\n",
              "    .colab-df-convert {\n",
              "      background-color: #E8F0FE;\n",
              "      border: none;\n",
              "      border-radius: 50%;\n",
              "      cursor: pointer;\n",
              "      display: none;\n",
              "      fill: #1967D2;\n",
              "      height: 32px;\n",
              "      padding: 0 0 0 0;\n",
              "      width: 32px;\n",
              "    }\n",
              "\n",
              "    .colab-df-convert:hover {\n",
              "      background-color: #E2EBFA;\n",
              "      box-shadow: 0px 1px 2px rgba(60, 64, 67, 0.3), 0px 1px 3px 1px rgba(60, 64, 67, 0.15);\n",
              "      fill: #174EA6;\n",
              "    }\n",
              "\n",
              "    [theme=dark] .colab-df-convert {\n",
              "      background-color: #3B4455;\n",
              "      fill: #D2E3FC;\n",
              "    }\n",
              "\n",
              "    [theme=dark] .colab-df-convert:hover {\n",
              "      background-color: #434B5C;\n",
              "      box-shadow: 0px 1px 3px 1px rgba(0, 0, 0, 0.15);\n",
              "      filter: drop-shadow(0px 1px 2px rgba(0, 0, 0, 0.3));\n",
              "      fill: #FFFFFF;\n",
              "    }\n",
              "  </style>\n",
              "\n",
              "      <script>\n",
              "        const buttonEl =\n",
              "          document.querySelector('#df-e1c3539f-5405-4972-8d19-dcc9efcc40a1 button.colab-df-convert');\n",
              "        buttonEl.style.display =\n",
              "          google.colab.kernel.accessAllowed ? 'block' : 'none';\n",
              "\n",
              "        async function convertToInteractive(key) {\n",
              "          const element = document.querySelector('#df-e1c3539f-5405-4972-8d19-dcc9efcc40a1');\n",
              "          const dataTable =\n",
              "            await google.colab.kernel.invokeFunction('convertToInteractive',\n",
              "                                                     [key], {});\n",
              "          if (!dataTable) return;\n",
              "\n",
              "          const docLinkHtml = 'Like what you see? Visit the ' +\n",
              "            '<a target=\"_blank\" href=https://colab.research.google.com/notebooks/data_table.ipynb>data table notebook</a>'\n",
              "            + ' to learn more about interactive tables.';\n",
              "          element.innerHTML = '';\n",
              "          dataTable['output_type'] = 'display_data';\n",
              "          await google.colab.output.renderOutput(dataTable, element);\n",
              "          const docLink = document.createElement('div');\n",
              "          docLink.innerHTML = docLinkHtml;\n",
              "          element.appendChild(docLink);\n",
              "        }\n",
              "      </script>\n",
              "    </div>\n",
              "  </div>\n",
              "  "
            ]
          },
          "metadata": {},
          "execution_count": 47
        }
      ],
      "source": [
        "# Check the 5 first rows of the cleaned dataset.\n",
        "cleaned_data.head()"
      ]
    },
    {
      "cell_type": "code",
      "execution_count": 48,
      "id": "0e7097af",
      "metadata": {
        "execution": {
          "iopub.execute_input": "2022-12-24T20:16:36.454593Z",
          "iopub.status.busy": "2022-12-24T20:16:36.453652Z",
          "iopub.status.idle": "2022-12-24T20:16:36.461832Z",
          "shell.execute_reply": "2022-12-24T20:16:36.461019Z"
        },
        "papermill": {
          "duration": 0.034167,
          "end_time": "2022-12-24T20:16:36.464303",
          "exception": false,
          "start_time": "2022-12-24T20:16:36.430136",
          "status": "completed"
        },
        "tags": [],
        "id": "0e7097af"
      },
      "outputs": [],
      "source": [
        "# We scale the cleaned data so that the result comprises only values between 0 and 1. \n",
        "X = cleaned_data.drop('Churn', axis =1) \n",
        "y = cleaned_data['Churn']"
      ]
    },
    {
      "cell_type": "code",
      "execution_count": 49,
      "id": "131469c5",
      "metadata": {
        "execution": {
          "iopub.execute_input": "2022-12-24T20:16:36.510167Z",
          "iopub.status.busy": "2022-12-24T20:16:36.509755Z",
          "iopub.status.idle": "2022-12-24T20:16:36.922526Z",
          "shell.execute_reply": "2022-12-24T20:16:36.921385Z"
        },
        "papermill": {
          "duration": 0.439089,
          "end_time": "2022-12-24T20:16:36.925411",
          "exception": false,
          "start_time": "2022-12-24T20:16:36.486322",
          "status": "completed"
        },
        "tags": [],
        "id": "131469c5"
      },
      "outputs": [],
      "source": [
        "# We perform one-hot encoding.\n",
        "X=pd.get_dummies(X)"
      ]
    },
    {
      "cell_type": "code",
      "execution_count": 50,
      "id": "efdf3bdf",
      "metadata": {
        "execution": {
          "iopub.execute_input": "2022-12-24T20:16:36.971443Z",
          "iopub.status.busy": "2022-12-24T20:16:36.971056Z",
          "iopub.status.idle": "2022-12-24T20:16:37.366503Z",
          "shell.execute_reply": "2022-12-24T20:16:37.365427Z"
        },
        "papermill": {
          "duration": 0.421421,
          "end_time": "2022-12-24T20:16:37.369224",
          "exception": false,
          "start_time": "2022-12-24T20:16:36.947803",
          "status": "completed"
        },
        "tags": [],
        "id": "efdf3bdf"
      },
      "outputs": [],
      "source": [
        "# We split the data into 80% for training and 20% for testing.\n",
        "x_train, x_test, y_train, y_test = train_test_split(X, y, test_size=0.2, random_state=42)"
      ]
    },
    {
      "cell_type": "markdown",
      "id": "4b81ceb7",
      "metadata": {
        "papermill": {
          "duration": 0.022579,
          "end_time": "2022-12-24T20:16:37.413902",
          "exception": false,
          "start_time": "2022-12-24T20:16:37.391323",
          "status": "completed"
        },
        "tags": [],
        "id": "4b81ceb7"
      },
      "source": [
        "# Model selection\n",
        "#### In order to predict the probability of a customer staying or leaving the company, we will use logistic regression. Logistic regression is a statistical model used by Machine Learning to perform classification, in order to predict the probability of a binary (yes/no) event occurring."
      ]
    },
    {
      "cell_type": "code",
      "execution_count": 51,
      "id": "9eb6d020",
      "metadata": {
        "execution": {
          "iopub.execute_input": "2022-12-24T20:16:37.460333Z",
          "iopub.status.busy": "2022-12-24T20:16:37.459650Z",
          "iopub.status.idle": "2022-12-24T20:16:41.475423Z",
          "shell.execute_reply": "2022-12-24T20:16:41.474007Z"
        },
        "papermill": {
          "duration": 4.045037,
          "end_time": "2022-12-24T20:16:41.481139",
          "exception": false,
          "start_time": "2022-12-24T20:16:37.436102",
          "status": "completed"
        },
        "tags": [],
        "id": "9eb6d020",
        "outputId": "b09a5302-b3e1-4631-e196-129e8082fc8f",
        "colab": {
          "base_uri": "https://localhost:8080/"
        }
      },
      "outputs": [
        {
          "output_type": "stream",
          "name": "stderr",
          "text": [
            "/usr/local/lib/python3.8/dist-packages/sklearn/linear_model/_logistic.py:814: ConvergenceWarning: lbfgs failed to converge (status=1):\n",
            "STOP: TOTAL NO. of ITERATIONS REACHED LIMIT.\n",
            "\n",
            "Increase the number of iterations (max_iter) or scale the data as shown in:\n",
            "    https://scikit-learn.org/stable/modules/preprocessing.html\n",
            "Please also refer to the documentation for alternative solver options:\n",
            "    https://scikit-learn.org/stable/modules/linear_model.html#logistic-regression\n",
            "  n_iter_i = _check_optimize_result(\n"
          ]
        },
        {
          "output_type": "execute_result",
          "data": {
            "text/plain": [
              "LogisticRegression()"
            ]
          },
          "metadata": {},
          "execution_count": 51
        }
      ],
      "source": [
        "# We create the model.\n",
        "model = LogisticRegression()\n",
        "# We train the model.\n",
        "model.fit(x_train, y_train)"
      ]
    },
    {
      "cell_type": "markdown",
      "id": "3c6db185",
      "metadata": {
        "papermill": {
          "duration": 0.048864,
          "end_time": "2022-12-24T20:16:41.587291",
          "exception": false,
          "start_time": "2022-12-24T20:16:41.538427",
          "status": "completed"
        },
        "tags": [],
        "id": "3c6db185"
      },
      "source": [
        "# Model evaluation"
      ]
    },
    {
      "cell_type": "code",
      "execution_count": 52,
      "id": "e242f105",
      "metadata": {
        "execution": {
          "iopub.execute_input": "2022-12-24T20:16:41.633564Z",
          "iopub.status.busy": "2022-12-24T20:16:41.633172Z",
          "iopub.status.idle": "2022-12-24T20:16:41.722669Z",
          "shell.execute_reply": "2022-12-24T20:16:41.721307Z"
        },
        "papermill": {
          "duration": 0.118112,
          "end_time": "2022-12-24T20:16:41.727792",
          "exception": false,
          "start_time": "2022-12-24T20:16:41.609680",
          "status": "completed"
        },
        "tags": [],
        "id": "e242f105",
        "outputId": "f88a7e14-e1be-42c8-af3a-870fc91d4fe3",
        "colab": {
          "base_uri": "https://localhost:8080/"
        }
      },
      "outputs": [
        {
          "output_type": "stream",
          "name": "stdout",
          "text": [
            "['Yes' 'No' 'No' ... 'No' 'No' 'No']\n"
          ]
        }
      ],
      "source": [
        "y_pred = model.predict(x_test)\n",
        "print(y_pred)"
      ]
    },
    {
      "cell_type": "code",
      "execution_count": 53,
      "id": "c205a57d",
      "metadata": {
        "execution": {
          "iopub.execute_input": "2022-12-24T20:16:41.842827Z",
          "iopub.status.busy": "2022-12-24T20:16:41.842406Z",
          "iopub.status.idle": "2022-12-24T20:16:42.228497Z",
          "shell.execute_reply": "2022-12-24T20:16:42.227098Z"
        },
        "papermill": {
          "duration": 0.450742,
          "end_time": "2022-12-24T20:16:42.236682",
          "exception": false,
          "start_time": "2022-12-24T20:16:41.785940",
          "status": "completed"
        },
        "tags": [],
        "id": "c205a57d",
        "outputId": "1c507cda-ef7d-431f-b7fb-832a77e0e6d6",
        "colab": {
          "base_uri": "https://localhost:8080/"
        }
      },
      "outputs": [
        {
          "output_type": "stream",
          "name": "stdout",
          "text": [
            "Training set score: 0.8097\n",
            "Test set score: 0.8219\n"
          ]
        }
      ],
      "source": [
        "# Print the scores of the training and testing set to check for overfitting.\n",
        "print('Training set score: {:.4f}'.format(model.score(x_train, y_train)))\n",
        "print('Test set score: {:.4f}'.format(model.score(x_test, y_test)))"
      ]
    },
    {
      "cell_type": "markdown",
      "id": "13adf699",
      "metadata": {
        "papermill": {
          "duration": 0.026221,
          "end_time": "2022-12-24T20:16:42.349197",
          "exception": false,
          "start_time": "2022-12-24T20:16:42.322976",
          "status": "completed"
        },
        "tags": [],
        "id": "13adf699"
      },
      "source": [
        "#### The training set accuracy score is 0.8097, while the test set accuracy is 0.8219. These two values are quite comparable, so there is no question of overfitting."
      ]
    },
    {
      "cell_type": "code",
      "execution_count": 54,
      "id": "5ff56656",
      "metadata": {
        "execution": {
          "iopub.execute_input": "2022-12-24T20:16:42.396777Z",
          "iopub.status.busy": "2022-12-24T20:16:42.396380Z",
          "iopub.status.idle": "2022-12-24T20:16:42.417371Z",
          "shell.execute_reply": "2022-12-24T20:16:42.415901Z"
        },
        "papermill": {
          "duration": 0.047992,
          "end_time": "2022-12-24T20:16:42.419968",
          "exception": false,
          "start_time": "2022-12-24T20:16:42.371976",
          "status": "completed"
        },
        "tags": [],
        "id": "5ff56656",
        "outputId": "9dababe8-96ed-4fb5-f767-48d2f74720bf",
        "colab": {
          "base_uri": "https://localhost:8080/"
        }
      },
      "outputs": [
        {
          "output_type": "stream",
          "name": "stdout",
          "text": [
            "Confusion matrix\n",
            "\n",
            " [[937  99]\n",
            " [152 221]]\n",
            "\n",
            "The confusion matrix shows 1158 correct predictions and 251 incorrect predictions.\n",
            "\n",
            "More Specifically: \n",
            "\n",
            "-True Positives (Actual Positive:1 and Predict Positive:1) =  937\n",
            "\n",
            "-True Negatives (Actual Negative:0 and Predict Negative:0) =  221\n",
            "\n",
            "-False Positives (Actual Negative:0 but Predict Positive:1) =  99 (Type I error)\n",
            "\n",
            "-False Negatives (Actual Positive:1 but Predict Negative:0) =  152 (Type II error)\n"
          ]
        }
      ],
      "source": [
        "# Confusion matrix.\n",
        "cm = confusion_matrix(y_test, y_pred)\n",
        "\n",
        "print('Confusion matrix\\n\\n', cm)\n",
        "\n",
        "print('\\nThe confusion matrix shows', cm[0,0] + cm[1,1],'correct predictions and', cm[1,0] + cm[0,1], 'incorrect predictions.')\n",
        "\n",
        "print('\\nMore Specifically: ')\n",
        "\n",
        "print('\\n-True Positives (Actual Positive:1 and Predict Positive:1) = ', cm[0,0])\n",
        "\n",
        "print('\\n-True Negatives (Actual Negative:0 and Predict Negative:0) = ', cm[1,1])\n",
        "\n",
        "print('\\n-False Positives (Actual Negative:0 but Predict Positive:1) = ', cm[0,1], '(Type I error)')\n",
        "\n",
        "print('\\n-False Negatives (Actual Positive:1 but Predict Negative:0) = ', cm[1,0], '(Type II error)')"
      ]
    },
    {
      "cell_type": "code",
      "execution_count": 55,
      "id": "26c371a9",
      "metadata": {
        "execution": {
          "iopub.execute_input": "2022-12-24T20:16:42.471669Z",
          "iopub.status.busy": "2022-12-24T20:16:42.471162Z",
          "iopub.status.idle": "2022-12-24T20:16:42.742331Z",
          "shell.execute_reply": "2022-12-24T20:16:42.741289Z"
        },
        "papermill": {
          "duration": 0.300126,
          "end_time": "2022-12-24T20:16:42.744736",
          "exception": false,
          "start_time": "2022-12-24T20:16:42.444610",
          "status": "completed"
        },
        "tags": [],
        "id": "26c371a9",
        "outputId": "2896afd8-400f-4291-b269-5c4e2185e376",
        "colab": {
          "base_uri": "https://localhost:8080/",
          "height": 282
        }
      },
      "outputs": [
        {
          "output_type": "execute_result",
          "data": {
            "text/plain": [
              "<matplotlib.axes._subplots.AxesSubplot at 0x7f1177b99bb0>"
            ]
          },
          "metadata": {},
          "execution_count": 55
        },
        {
          "output_type": "display_data",
          "data": {
            "text/plain": [
              "<Figure size 432x288 with 2 Axes>"
            ],
            "image/png": "[encoded data removed]"
          },
          "metadata": {
            "needs_background": "light"
          }
        }
      ],
      "source": [
        "# Visualize the confusion matrix using a seaborn heatmap.\n",
        "cm_matrix = pd.DataFrame(data=cm, columns=['Actual Positive:1', 'Actual Negative:0'], \n",
        "                                 index=['Predict Positive:1', 'Predict Negative:0'])\n",
        "\n",
        "sns.heatmap(cm_matrix, annot=True, fmt='d', cmap='YlGnBu')"
      ]
    },
    {
      "cell_type": "code",
      "execution_count": 56,
      "id": "51009ccd",
      "metadata": {
        "execution": {
          "iopub.execute_input": "2022-12-24T20:16:42.793924Z",
          "iopub.status.busy": "2022-12-24T20:16:42.793272Z",
          "iopub.status.idle": "2022-12-24T20:16:42.840640Z",
          "shell.execute_reply": "2022-12-24T20:16:42.838939Z"
        },
        "papermill": {
          "duration": 0.075487,
          "end_time": "2022-12-24T20:16:42.843804",
          "exception": false,
          "start_time": "2022-12-24T20:16:42.768317",
          "status": "completed"
        },
        "tags": [],
        "id": "51009ccd",
        "outputId": "1b152e67-dd2c-40db-fdcc-afaeb64c89c3",
        "colab": {
          "base_uri": "https://localhost:8080/"
        }
      },
      "outputs": [
        {
          "output_type": "stream",
          "name": "stdout",
          "text": [
            "              precision    recall  f1-score   support\n",
            "\n",
            "          No       0.86      0.90      0.88      1036\n",
            "         Yes       0.69      0.59      0.64       373\n",
            "\n",
            "    accuracy                           0.82      1409\n",
            "   macro avg       0.78      0.75      0.76      1409\n",
            "weighted avg       0.82      0.82      0.82      1409\n",
            "\n"
          ]
        }
      ],
      "source": [
        "# We check its precision, recall, f1-score and accuracy.\n",
        "print(classification_report(y_test, y_pred))"
      ]
    },
    {
      "cell_type": "markdown",
      "id": "f3aad32c",
      "metadata": {
        "papermill": {
          "duration": 0.023499,
          "end_time": "2022-12-24T20:16:42.895413",
          "exception": false,
          "start_time": "2022-12-24T20:16:42.871914",
          "status": "completed"
        },
        "tags": [],
        "id": "f3aad32c"
      },
      "source": [
        "# Interpretation\n",
        "#### Retained customers:\n",
        "- The precision of the model is 86%, meaning that 86% of the results are relevant. \n",
        "- The recall of the model is 90%, meaning that 90% of the total relevant results were correctly classified by the model.\n",
        "- The f1-score measuring the model's accuracy on the dataset is 88%, which is an ok result.\n",
        "\n",
        "#### Churned customers: \n",
        "- The precision of the model is 69%, meaning that 69% of the results are relevant. \n",
        "- The recall of the model is 59%, meaning that 59% of the total relevant results were correctly classified by the model.\n",
        "- The f1-score measuring the model's accuracy on the dataset is 64%, which is an ok result.\n",
        "\n",
        "### The accuracy of the model is 82%, which indicates great model performance."
      ]
    },
    {
      "cell_type": "markdown",
      "id": "c2be6c44",
      "metadata": {
        "papermill": {
          "duration": 0.023146,
          "end_time": "2022-12-24T20:16:42.941920",
          "exception": false,
          "start_time": "2022-12-24T20:16:42.918774",
          "status": "completed"
        },
        "tags": [],
        "id": "c2be6c44"
      },
      "source": [
        "![](https://www.questback.com/wp-content/uploads/2022/07/Customer-churn-rate-1024x683.jpg)"
      ]
    },
    {
      "cell_type": "markdown",
      "id": "724a4828",
      "metadata": {
        "papermill": {
          "duration": 0.023614,
          "end_time": "2022-12-24T20:16:42.989212",
          "exception": false,
          "start_time": "2022-12-24T20:16:42.965598",
          "status": "completed"
        },
        "tags": [],
        "id": "724a4828"
      },
      "source": [
        "# Recommendations for customer retention\n",
        "### The Telco company could:\n",
        "- consider lowering the monthly charges to increase customer retention.\n",
        "- focus its efforts on the aquisition period of new customers (0-8 months), since the probabilities of customer churning are higher during that period.\n",
        "- investigate possible service quality issues with its fiber optic service and -if that's the case- work on resolving them.\n",
        "- consider proposing contracts with a starting duration of 1-2 year(s), since the churning probabilities are significantly lower in contrast to the month-to-month contracts.\n",
        "- promote and eventually sign additional services to its customers, such as tech support, online backup, online security, etc., since the customers are more likely to stay in the company if they have signed up for other services as well."
      ]
    }
  ],
  "metadata": {
    "kernelspec": {
      "display_name": "Python 3",
      "language": "python",
      "name": "python3"
    },
    "language_info": {
      "codemirror_mode": {
        "name": "ipython",
        "version": 3
      },
      "file_extension": ".py",
      "mimetype": "text/x-python",
      "name": "python",
      "nbconvert_exporter": "python",
      "pygments_lexer": "ipython3",
      "version": "3.7.12"
    },
    "papermill": {
      "default_parameters": {},
      "duration": 26.067799,
      "end_time": "2022-12-24T20:16:43.936768",
      "environment_variables": {},
      "exception": null,
      "input_path": "__notebook__.ipynb",
      "output_path": "__notebook__.ipynb",
      "parameters": {},
      "start_time": "2022-12-24T20:16:17.868969",
      "version": "2.3.4"
    },
    "colab": {
      "provenance": [],
      "include_colab_link": true
    }
  },
  "nbformat": 4,
  "nbformat_minor": 5
}